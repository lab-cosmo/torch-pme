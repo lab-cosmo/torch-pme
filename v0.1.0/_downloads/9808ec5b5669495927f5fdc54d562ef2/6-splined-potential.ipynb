{
  "cells": [
    {
      "cell_type": "markdown",
      "metadata": {},
      "source": [
        "\n\n# Splined potentials\n\n.. currentmodule:: torchpme\n\n:Authors: Michele Ceriotti [@ceriottm](https://github.com/ceriottm/)\n\nThis notebook demonstrates the use of the :class:`SplinePotential` class to evaluate\npotentials for which there is no simple analytical expression for the Fourier-domain\nfilter.\n"
      ]
    },
    {
      "cell_type": "code",
      "execution_count": null,
      "metadata": {
        "collapsed": false
      },
      "outputs": [],
      "source": [
        "import ase\nimport numpy as np\nimport torch\nfrom matplotlib import pyplot as plt\n\nimport torchpme\nfrom torchpme.potentials import CoulombPotential, SplinePotential\n\ndevice = \"cpu\"\ndtype = torch.float64\nrng = torch.Generator()\nrng.manual_seed(42)"
      ]
    },
    {
      "cell_type": "markdown",
      "metadata": {},
      "source": [
        "## Defining the potential on a radial grid\n\nThe ``SplinePotential`` can be initialized using simply a pair of arrays:\nradial positions, and the corresponding values of the potential\n\n"
      ]
    },
    {
      "cell_type": "code",
      "execution_count": null,
      "metadata": {
        "collapsed": false
      },
      "outputs": [],
      "source": [
        "x_grid = torch.linspace(0, 10, 8, device=device, dtype=dtype)\ny_grid = torch.exp(-(x_grid**2) / 2) / torch.pow(torch.pi * 2, torch.tensor([3 / 2]))\n\nx_grid_fine = torch.linspace(0, 10, 32, device=device, dtype=dtype)\ny_grid_fine = torch.exp(-(x_grid_fine**2) / 2) / torch.pow(\n    torch.pi * 2, torch.tensor([3 / 2])\n)\n\nspline = SplinePotential(r_grid=x_grid, y_grid=y_grid)\nspline_fine = SplinePotential(r_grid=x_grid_fine, y_grid=y_grid_fine)"
      ]
    },
    {
      "cell_type": "markdown",
      "metadata": {},
      "source": [
        "The real-space function can be easily evaluated using the\n:func:`lr_from_dist <torchpme.lib.SplinePotential.lr_from_dist>`\nmember function. The convergence with\nnumber of spline points is fast, for such a slowly-varying function.\n\n"
      ]
    },
    {
      "cell_type": "code",
      "execution_count": null,
      "metadata": {
        "collapsed": false
      },
      "outputs": [],
      "source": [
        "x_test = torch.linspace(0, 10, 256, device=device, dtype=dtype)\ny_test = torch.exp(-(x_test**2) / 2) / torch.pow(torch.pi * 2, torch.tensor([3 / 2]))\ny_spline = spline.lr_from_dist(x_test)\ny_spline_fine = spline_fine.lr_from_dist(x_test)\n\nfig, ax = plt.subplots(2, 1, figsize=(4, 3), sharex=True, constrained_layout=True)\n\nax[0].plot(x_grid, y_grid, \"b*\")\nax[0].plot(x_test, y_spline, \"b-\", label=r\"$n_\\mathrm{grid}$=8\")\nax[0].plot(x_grid_fine, y_grid_fine, \"r.\")\nax[0].plot(x_test, y_spline_fine, \"r-\", label=r\"$n_\\mathrm{grid}$=32\")\nax[0].plot(x_test, y_test, \"k:\")\nax[1].set_xlabel(r\"$r$ / \u00c5\")\nax[0].set_ylabel(r\"$V$ / a.u.\")\nax[0].set_xlim(-0.01, 4)\nax[0].set_ylim(-0.01, 0.1)\n\nax[1].set_ylabel(r\"$\\Delta V$ / a.u.\")\nax[1].plot(x_test, y_spline - y_test, \"b-\")\nax[1].plot(x_test, y_spline_fine - y_test, \"r-\")\nax[1].plot(x_test, y_test * 0, \"k:\")\nax[1].set_ylim(-1e-2, 1e-2)\nax[0].legend()"
      ]
    },
    {
      "cell_type": "markdown",
      "metadata": {},
      "source": [
        "### Fourier-domain kernel\nA core feature of :class:`SplinePotential <torchpme.lib.SplinePotential>`\nis that it can evaluate\nautomatically the Fourier-domain kernel that is used in k-space methods.\nThis is done by evaluating\n\n.. math ::\n\n     \\hat{f}(k) =4\\pi\\int \\mathrm{d}r \\frac{\\sin k r}{k} r f(r)\n\nin a semin-analytical way - that is, by computing the integral over each\nsegment in the cubic spline.\n\n"
      ]
    },
    {
      "cell_type": "code",
      "execution_count": null,
      "metadata": {
        "collapsed": false
      },
      "outputs": [],
      "source": [
        "k_test = torch.linspace(0, 10, 256, device=device, dtype=dtype)\nyhat_test = torch.exp(-(k_test**2) / 2)  # /torch.pow(2*torch.pi,torch.tensor([3/2]))\n\nyhat_spline = spline.kernel_from_k_sq(k_test**2)\nyhat_spline_fine = spline_fine.kernel_from_k_sq(k_test**2)\n\nfig, ax = plt.subplots(1, 1, figsize=(4, 3), sharex=True, constrained_layout=True)\n\nax.plot(x_test, yhat_spline, \"b-\", label=r\"$n_\\mathrm{grid}$=8\")\nax.plot(x_test, yhat_spline_fine, \"r-\", label=r\"$n_\\mathrm{grid}$=32\")\nax.plot(k_test, yhat_test, \"k:\")\nax.set_xlabel(r\"$k$ / \u00c5$^{-1}$\")\nax.set_ylabel(r\"$\\hat{V}$ / a.u.\")\nax.set_xlim(-0.01, 4)\nax.set_ylim(-0.1, 1.1)\nax.legend()"
      ]
    },
    {
      "cell_type": "markdown",
      "metadata": {},
      "source": [
        "An important consideration is that the splining of the k-space kernel\nrequires a suitable grid. This is usually inferred from the real-space\nsplining, but it is also possible to provided it as a further parameter\nto the constructor. If the analytical expression for\n$\\hat{V}(k)$  is known (and the spline is used for efficiency)\none can also provide the values with the parameter ``yhat_grid``\n\n"
      ]
    },
    {
      "cell_type": "code",
      "execution_count": null,
      "metadata": {
        "collapsed": false
      },
      "outputs": [],
      "source": [
        "spline_kgrid = SplinePotential(\n    r_grid=x_grid, y_grid=y_grid, k_grid=torch.linspace(0, 10, 32)\n)\nyhat_spline_kgrid = spline_kgrid.kernel_from_k_sq(k_test**2)\n\nfig, ax = plt.subplots(1, 1, figsize=(4, 3), sharex=True, constrained_layout=True)\n\nax.plot(x_test, yhat_spline, \"b-\", label=r\"automatic grid\")\nax.plot(x_test, yhat_spline_kgrid, \"b--\", label=r\"manual k-space grid\")\nax.plot(k_test, yhat_test, \"k:\")\nax.set_xlabel(r\"$k$ / \u00c5$^{-1}$\")\nax.set_ylabel(r\"$\\hat{V}$ / a.u.\")\nax.set_xlim(-0.01, 4)\nax.set_ylim(-0.1, 1.1)\nax.legend()"
      ]
    },
    {
      "cell_type": "markdown",
      "metadata": {},
      "source": [
        "## Reciprocal grid and long-range potentials\n\n``torch-pme`` is all about long-range potentials, and the problem\nwith them is that they converge to zero *very* slowly. In order to address\nthis, :class:`SplinePotential` implements a \"reciprocal spline\", i.e.\nthe splining grid provided in the definition of the potential is actually\ndefined relative to $1/r$, and \"continued\" to $1/r\\rightarrow 0$.\nWe use a smeared-Coulomb potential to have a more interesting use case.\n\n"
      ]
    },
    {
      "cell_type": "code",
      "execution_count": null,
      "metadata": {
        "collapsed": false
      },
      "outputs": [],
      "source": [
        "coulomb = CoulombPotential(smearing=1.0)\nx_grid = torch.logspace(-2, 2, 100, device=device, dtype=dtype)\ny_grid = coulomb.lr_from_dist(x_grid)\n\n# create a spline potential\nspline_direct = SplinePotential(r_grid=x_grid, y_grid=y_grid, reciprocal=False)\nspline = SplinePotential(r_grid=x_grid, y_grid=y_grid, reciprocal=True)"
      ]
    },
    {
      "cell_type": "markdown",
      "metadata": {},
      "source": [
        "The \"direct\" spline fails miserably outside the fitting range, while the\n\"reciprocal\" spline extrapolates nicely.\n\n"
      ]
    },
    {
      "cell_type": "code",
      "execution_count": null,
      "metadata": {
        "collapsed": false
      },
      "outputs": [],
      "source": [
        "t_grid = torch.logspace(-4, 4, 100)\nz_coul = coulomb.lr_from_dist(t_grid)\nz_direct = spline_direct.lr_from_dist(t_grid)\nz_spline = spline.lr_from_dist(t_grid)\n\nfig, ax = plt.subplots(\n    1, 1, figsize=(4, 3), sharey=True, sharex=True, constrained_layout=True\n)\nax.loglog(t_grid, z_direct, \"b-\", label=\"direct spline\")\nax.loglog(t_grid, z_spline, \"r-\", label=\"reciprocal spline\")\nax.loglog(t_grid, z_coul, \"k:\")\nax.set_xlabel(r\"$r$ / \u00c5\")\nax.set_ylabel(r\"$V$ / a.u.\")\nax.axvspan(1e-2, 1e2, color=\"gray\", alpha=0.3, label=\"fitted region\")\nax.set_xlim(1e-4, 1e4)"
      ]
    },
    {
      "cell_type": "markdown",
      "metadata": {},
      "source": [
        "This is good, but not magical, and if the tail behavior is not\n$1/x$ the spline will only be able to approximate for a short\nsegment (due to the continuity condition) but will eventually revert\nto an asymptotic $1/r$ behavior. Still, this is much better than\na direct spline.\n\n"
      ]
    },
    {
      "cell_type": "code",
      "execution_count": null,
      "metadata": {
        "collapsed": false
      },
      "outputs": [],
      "source": [
        "y_grid_2 = y_grid**2\nspline_2 = SplinePotential(r_grid=x_grid, y_grid=y_grid_2, reciprocal=True)\nspline_2_direct = SplinePotential(r_grid=x_grid, y_grid=y_grid_2, reciprocal=False)\nz_coul_2 = z_coul**2\nz_spline_2 = spline_2.lr_from_dist(t_grid)\nz_spline_2_direct = spline_2_direct.lr_from_dist(t_grid)\n\nfig, ax = plt.subplots(\n    1, 1, figsize=(4, 3), sharey=True, sharex=True, constrained_layout=True\n)\nax.loglog(t_grid, z_spline_2_direct, \"b-\", label=\"direct spline\")\nax.loglog(t_grid, z_spline_2, \"r-\", label=\"reciprocal spline\")\nax.loglog(t_grid, z_coul_2, \"k:\")\nax.set_xlabel(r\"$r$ / \u00c5\")\nax.set_ylabel(r\"$V$ / a.u.\")\nax.axvspan(1e-2, 1e2, color=\"gray\", alpha=0.3, label=\"fitted region\")\nax.set_xlim(1e-4, 1e4)"
      ]
    },
    {
      "cell_type": "markdown",
      "metadata": {},
      "source": [
        "### Fourier-domain kernel\n\nThe calculation of a Fourier-domain kernel is a very delicate affair for\na long-tail potential, which is apparent in the noisy behavior at\nhigh-$k$, and the cutoff at the lowest point sampled at small\nwavevector. These numerical issues can be mitigated, but ultimately have\nlow impact on the accuracy of models built on the splined potential.\n\nNote that the initialization of the spline parameters and the calculation\nof the radial Fourier transform is run in double precision regardless of\nthe type of the input grids. After initialization, further calculations\nare performed at the level corresponding to the grid precision.\n\n"
      ]
    },
    {
      "cell_type": "code",
      "execution_count": null,
      "metadata": {
        "collapsed": false
      },
      "outputs": [],
      "source": [
        "spline = SplinePotential(r_grid=x_grid, y_grid=y_grid, reciprocal=True)\n\nx_grid_hiq = torch.logspace(-4, 4, 1000, device=device, dtype=dtype)\ny_grid_hiq = coulomb.lr_from_dist(x_grid_hiq)\nspline_hiq = SplinePotential(r_grid=x_grid_hiq, y_grid=y_grid_hiq, reciprocal=True)\n\nk_grid = torch.logspace(-4.1, 4, 1000)\nkrn_coul = coulomb.kernel_from_k_sq(k_grid**2)\nkrn_spline = spline.kernel_from_k_sq(k_grid**2)\nkrn_spline_hiq = spline_hiq.kernel_from_k_sq(k_grid**2)\n\nfig, ax = plt.subplots(\n    1, 1, figsize=(4, 3), sharey=True, sharex=True, constrained_layout=True\n)\n\n\nax.loglog(k_grid, krn_spline, \"b-\", label=\"low-accuracy spline\")\nax.loglog(k_grid, krn_spline_hiq, \"r-\", label=\"high-accuracy spline\")\nax.loglog(k_grid, krn_coul, \"k:\")\n\nax.set_xlabel(r\"$k$ / \u00c5$^{-1}$\")\nax.set_ylabel(r\"$\\hat{V}$ / a.u.\")\nax.set_xlim(1e-2, 10)\nax.set_ylim(1e-8, 1e4)\nax.legend()"
      ]
    },
    {
      "cell_type": "markdown",
      "metadata": {},
      "source": [
        "## Combining with Fourier filters and meshes\n\nTo see a potential application of this splining framework, consider\nthe calculation of a \"excusion-radius\" Coulomb potential, i.e. a\nsmooth Coulomb potential with the short-range region removed (so that)\nshort-range structure does not contribute to the field around an atom.\n\nNormally this is achieved through a short-range correction, that however\ncan be cumbersome in some applications (e.g. if one wants to compute\nexplicitly the potential on a grid).\n\n"
      ]
    },
    {
      "cell_type": "code",
      "execution_count": null,
      "metadata": {
        "collapsed": false
      },
      "outputs": [],
      "source": [
        "smearing = 0.5\ncoulomb = CoulombPotential(smearing=smearing, exclusion_radius=None)\ncoulomb_exclude = CoulombPotential(smearing=smearing, exclusion_radius=8.0)\n\nx_grid = torch.logspace(-3, 3, 1000)\ny_grid = coulomb_exclude.lr_from_dist(x_grid) + coulomb_exclude.sr_from_dist(x_grid)\n\n# create a spline potential for with the exclusion range built in\nspline = SplinePotential(\n    r_grid=x_grid, y_grid=y_grid, smearing=smearing, reciprocal=True, yhat_at_zero=0.0\n)"
      ]
    },
    {
      "cell_type": "markdown",
      "metadata": {},
      "source": [
        "The real-space part of the potential matches the reference\nand shows clearly how this eliminates the contribution from\nthe atoms within a short-range cutoff. Here we use a very smooth\ncutoff, but one could as well use a much more aggressive cutoff\nfunction.\n\n"
      ]
    },
    {
      "cell_type": "code",
      "execution_count": null,
      "metadata": {
        "collapsed": false
      },
      "outputs": [],
      "source": [
        "t_grid = torch.logspace(-3, 3, 1000)\ny_bare = coulomb.lr_from_dist(t_grid)\ny_exclude = coulomb_exclude.lr_from_dist(t_grid) + coulomb_exclude.sr_from_dist(t_grid)\ny_spline = spline.lr_from_dist(t_grid)\n\nfig, ax = plt.subplots(\n    1, 1, figsize=(4, 3), sharey=True, sharex=True, constrained_layout=True\n)\nax.plot(t_grid, y_spline, \"b-\", label=\"8\u00c5 exclusion (spline)\")\nax.plot(t_grid, y_exclude, \"r--\", label=\"8\u00c5 exclusion (SR)\")\nax.plot(t_grid, y_bare, \"k:\", label=\"smooth Coulomb\")\n\nax.set_xlabel(r\"$r$ / \u00c5\")\nax.set_ylabel(r\"$V$ / a.u.\")\nax.set_xlim(0, 20)\nax.set_ylim(0, 1.75)\nax.legend()"
      ]
    },
    {
      "cell_type": "markdown",
      "metadata": {},
      "source": [
        "The k-space kernel has a non-trivial shape\n\n"
      ]
    },
    {
      "cell_type": "code",
      "execution_count": null,
      "metadata": {
        "collapsed": false
      },
      "outputs": [],
      "source": [
        "k_grid = torch.logspace(-3, 3, 400)\nkrn_coul = coulomb.kernel_from_k_sq(k_grid**2)\nkrn_spline = spline.kernel_from_k_sq(k_grid**2)\n\nfig, ax = plt.subplots(\n    1, 1, figsize=(4, 3), sharey=True, sharex=True, constrained_layout=True\n)\nax.semilogx(k_grid, krn_coul, \"k:\", label=\"smooth coulomb\")\nax.semilogx(k_grid, krn_spline, \"b-\", label=r\"8\u00c5 exclusion (spline)\")\nax.set_xlabel(r\"$k$ / \u00c5$^{-1}$\")\nax.set_ylabel(r\"$V$ / a.u.\")\nax.set_xlim(2e-1, 5)\nax.set_ylim(-20, 2e2)\nax.legend()"
      ]
    },
    {
      "cell_type": "markdown",
      "metadata": {},
      "source": [
        "### Compute the real-space potential\n\nGenerate a trial structure -- a distorted rocksalt structure\nwith perturbed positions and charges\n\n"
      ]
    },
    {
      "cell_type": "code",
      "execution_count": null,
      "metadata": {
        "collapsed": false
      },
      "outputs": [],
      "source": [
        "structure = ase.Atoms(\n    positions=[\n        [0, 0, 0],\n        [3, 0, 0],\n        [0, 3, 0],\n        [3, 3, 0],\n        [0, 0, 3],\n        [3, 0, 3],\n        [0, 3, 3],\n        [3, 3, 3],\n    ],\n    cell=[6, 6, 6],\n    symbols=\"NaClClNaClNaNaCl\",\n)\nstructure = structure.repeat([3, 3, 1])\n\ndisplacement = torch.normal(mean=0.0, std=5e-1, size=(len(structure), 3), generator=rng)\nstructure.positions += displacement.numpy()\n\ncharges = torch.tensor(\n    [[1.0], [-1.0], [-1.0], [1.0], [-1.0], [1.0], [1.0], [-1.0]] * 9,\n    dtype=dtype,\n    device=device,\n).reshape(-1, 1)\ncharges += torch.normal(mean=0.0, std=2e-1, size=(len(charges), 1), generator=rng)\npositions = torch.from_numpy(structure.positions).to(device=device, dtype=dtype)\ncell = torch.from_numpy(structure.cell.array).to(device=device, dtype=dtype)"
      ]
    },
    {
      "cell_type": "markdown",
      "metadata": {},
      "source": [
        "We use :class:`MeshInterpolator <torchpme.lib.MeshInterpolator>`\nand :class:`KSpaceFilter <torchpme.lib.KSpaceFilter>`\nto compute the potential on a grid. Note that the Coulomb potential\nincludes only the k-space part, and therefore has no exclusion zone\nin reality.\n\n"
      ]
    },
    {
      "cell_type": "code",
      "execution_count": null,
      "metadata": {
        "collapsed": false
      },
      "outputs": [],
      "source": [
        "ns = torchpme.lib.kvectors.get_ns_mesh(cell, smearing * 0.5)\nmesh_interpolator = torchpme.lib.MeshInterpolator(\n    cell=cell, ns_mesh=ns, interpolation_nodes=3, method=\"P3M\"\n)\nkernel_exclusion = torchpme.lib.KSpaceFilter(\n    cell=cell,\n    ns_mesh=ns,\n    kernel=coulomb_exclude,\n    fft_norm=\"backward\",\n    ifft_norm=\"forward\",\n)\n\nkernel_spline = torchpme.lib.KSpaceFilter(\n    cell=cell,\n    ns_mesh=ns,\n    kernel=spline,\n    fft_norm=\"backward\",\n    ifft_norm=\"forward\",\n)\n\nmesh_interpolator.compute_weights(positions)\nrho_mesh = mesh_interpolator.points_to_mesh(particle_weights=charges)\nivolume = torch.abs(cell.det()).pow(-1)\n\nkernel_exclusion.update(cell, ns)\ncoulomb_mesh = kernel_exclusion.forward(rho_mesh) * ivolume\n\nkernel_spline.update(cell, ns)\nspline_mesh = kernel_spline.forward(rho_mesh) * ivolume"
      ]
    },
    {
      "cell_type": "markdown",
      "metadata": {},
      "source": [
        "The potential computed using :class:`SplinePotential\n<torchpme.lib.SplinePotential>` also\ntakes into account the removal of the short-range part of the\nsmooth Coulomb potential, and therefore describes only the\nslowly-varying part that is generated by the position and charge\ndisorder.\n\n"
      ]
    },
    {
      "cell_type": "code",
      "execution_count": null,
      "metadata": {
        "collapsed": false
      },
      "outputs": [],
      "source": [
        "fig, ax = plt.subplots(\n    1, 2, figsize=(6, 3), sharey=True, sharex=True, constrained_layout=True\n)\nmesh_extent = [\n    0,\n    cell[0, 0],\n    0,\n    cell[1, 1],\n]\n\nz_plot = coulomb_mesh[0, :, :, 0].cpu().detach().numpy()\nz_plot = np.vstack([z_plot, z_plot[0, :]])  # Add first row at the bottom\nz_plot = np.hstack(\n    [z_plot, z_plot[:, 0].reshape(-1, 1)]\n)  # Add first column at the right\n\nz_min, z_max = (z_plot.min(), z_plot.max())\n\ncf_coulomb = ax[0].imshow(\n    z_plot,\n    extent=mesh_extent,\n    vmin=z_min,\n    vmax=z_max,\n    origin=\"lower\",\n    interpolation=\"bilinear\",\n)\n\nz_plot = spline_mesh[0, :, :, 0].cpu().detach().numpy()\nz_plot = np.vstack([z_plot, z_plot[0, :]])  # Add first row at the bottom\nz_plot = np.hstack(\n    [z_plot, z_plot[:, 0].reshape(-1, 1)]\n)  # Add first column at the right\n\ncf_spline = ax[1].imshow(\n    z_plot * 10,\n    extent=mesh_extent,\n    vmin=z_min,\n    vmax=z_max,\n    origin=\"lower\",\n    interpolation=\"bilinear\",\n)\n\nax[0].set_title(\"smooth Coulomb\")\nax[1].set_title(r\"8\u00c5 exclusion (spline), 10$\\times$\")\nax[0].set_xlabel(r\"$x$ / \u00c5\")\nax[1].set_xlabel(r\"$x$ / \u00c5\")\nax[0].set_ylabel(r\"$y$ / \u00c5\")\nfig.colorbar(cf_coulomb, ax=ax[1], label=r\"$V$ / a.u.\")\nfig.show()"
      ]
    }
  ],
  "metadata": {
    "kernelspec": {
      "display_name": "Python 3",
      "language": "python",
      "name": "python3"
    },
    "language_info": {
      "codemirror_mode": {
        "name": "ipython",
        "version": 3
      },
      "file_extension": ".py",
      "mimetype": "text/x-python",
      "name": "python",
      "nbconvert_exporter": "python",
      "pygments_lexer": "ipython3",
      "version": "3.12.7"
    }
  },
  "nbformat": 4,
  "nbformat_minor": 0
}