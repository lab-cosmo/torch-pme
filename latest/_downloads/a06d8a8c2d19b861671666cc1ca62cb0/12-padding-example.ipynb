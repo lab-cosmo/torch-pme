{
  "cells": [
    {
      "cell_type": "markdown",
      "metadata": {},
      "source": [
        "\n# Batched Ewald Computation with Padding\n\nThis example demonstrates how to compute Ewald potentials for a batch of systems with\ndifferent numbers of atoms using padding. The idea is to pad atomic positions, charges,\nand neighbor lists to the same length and use masks to ignore padded entries during\ncomputation. Note that batching systems of varying sizes in this way can increase the\ncomputational cost during model training, since padded atoms are included in the batched\noperations even though they don't contribute physically.\n"
      ]
    },
    {
      "cell_type": "code",
      "execution_count": null,
      "metadata": {
        "collapsed": false
      },
      "outputs": [],
      "source": [
        "import time\n\nimport torch\nimport vesin\nfrom torch.nn.utils.rnn import pad_sequence\n\nimport torchpme\n\ndtype = torch.float64\ncutoff = 4.4"
      ]
    },
    {
      "cell_type": "markdown",
      "metadata": {},
      "source": [
        "Example: two systems with 5 different systems\n\n"
      ]
    },
    {
      "cell_type": "code",
      "execution_count": null,
      "metadata": {
        "collapsed": false
      },
      "outputs": [],
      "source": [
        "systems = [\n    {\n        \"symbols\": (\"Cs\", \"Cl\"),\n        \"positions\": torch.tensor([(0, 0, 0), (0.5, 0.5, 0.5)], dtype=dtype),\n        \"charges\": torch.tensor([[1.0], [-1.0]], dtype=dtype),\n        \"cell\": torch.eye(3, dtype=dtype) * 3.0,\n        \"pbc\": torch.tensor([True, True, True]),\n    },\n    {\n        \"symbols\": (\"Na\", \"Cl\", \"Cl\"),\n        \"positions\": torch.tensor(\n            [(0, 0, 0), (0.5, 0.5, 0.5), (0.25, 0.25, 0.25)], dtype=dtype\n        ),\n        \"charges\": torch.tensor([[1.0], [-1.0], [-1.0]], dtype=dtype),\n        \"cell\": torch.eye(3, dtype=dtype) * 4.0,\n        \"pbc\": torch.tensor([True, True, True]),\n    },\n    {\n        \"symbols\": (\"K\", \"Br\", \"Br\", \"K\"),\n        \"positions\": torch.tensor(\n            [(0, 0, 0), (0.5, 0.5, 0.5), (0.25, 0.25, 0.25), (0.75, 0.75, 0.75)],\n            dtype=dtype,\n        ),\n        \"charges\": torch.tensor([[1.0], [-1.0], [-1.0], [1.0]], dtype=dtype),\n        \"cell\": torch.eye(3, dtype=dtype) * 5.0,\n        \"pbc\": torch.tensor([True, True, True]),\n    },\n    {\n        \"symbols\": (\"Mg\", \"O\", \"O\", \"Mg\", \"O\"),\n        \"positions\": torch.tensor(\n            [\n                (0, 0, 0),\n                (0.5, 0.5, 0.5),\n                (0.25, 0.25, 0.25),\n                (0.75, 0.75, 0.75),\n                (0.1, 0.1, 0.1),\n            ],\n            dtype=dtype,\n        ),\n        \"charges\": torch.tensor([[2.0], [-2.0], [-2.0], [2.0], [-2.0]], dtype=dtype),\n        \"cell\": torch.eye(3, dtype=dtype) * 6.0,\n        \"pbc\": torch.tensor([True, True, True]),\n    },\n    {\n        \"symbols\": (\"Al\", \"O\", \"O\", \"Al\", \"O\", \"O\"),\n        \"positions\": torch.tensor(\n            [\n                (0, 0, 0),\n                (0.5, 0.5, 0.5),\n                (0.25, 0.25, 0.25),\n                (0.75, 0.75, 0.75),\n                (0.1, 0.1, 0.1),\n                (0.9, 0.9, 0.9),\n            ],\n            dtype=dtype,\n        ),\n        \"charges\": torch.tensor(\n            [[3.0], [-2.0], [-2.0], [3.0], [-2.0], [-2.0]], dtype=dtype\n        ),\n        \"cell\": torch.eye(3, dtype=dtype) * 7.0,\n        \"pbc\": torch.tensor([True, True, True]),\n    },\n]"
      ]
    },
    {
      "cell_type": "markdown",
      "metadata": {},
      "source": [
        "Compute neighbor lists for each system\n\n"
      ]
    },
    {
      "cell_type": "code",
      "execution_count": null,
      "metadata": {
        "collapsed": false
      },
      "outputs": [],
      "source": [
        "i_list, j_list, d_list, pos_list, charges_list, cell_list, periodic_list = (\n    [],\n    [],\n    [],\n    [],\n    [],\n    [],\n    [],\n)\n\nnl = vesin.NeighborList(cutoff=cutoff, full_list=False)\n\nfor sys in systems:\n    neighbor_indices, neighbor_distances = nl.compute(\n        points=sys[\"positions\"],\n        box=sys[\"cell\"],\n        periodic=sys[\"pbc\"][0],\n        quantities=\"Pd\",\n    )\n    i_list.append(torch.tensor(neighbor_indices[:, 0], dtype=torch.int64))\n    j_list.append(torch.tensor(neighbor_indices[:, 1], dtype=torch.int64))\n    d_list.append(torch.tensor(neighbor_distances, dtype=dtype))\n    pos_list.append(sys[\"positions\"])\n    charges_list.append(sys[\"charges\"])\n    cell_list.append(sys[\"cell\"])\n    periodic_list.append(sys[\"pbc\"])"
      ]
    },
    {
      "cell_type": "markdown",
      "metadata": {},
      "source": [
        "Pad positions, charges, and neighbor lists\n\n"
      ]
    },
    {
      "cell_type": "code",
      "execution_count": null,
      "metadata": {
        "collapsed": false
      },
      "outputs": [],
      "source": [
        "max_atoms = max(pos.shape[0] for pos in pos_list)\npos_batch = pad_sequence(pos_list, batch_first=True)\ncharges_batch = pad_sequence(charges_list, batch_first=True)\ncell_batch = torch.stack(cell_list)\nperiodic_batch = torch.stack(periodic_list)\ni_batch = pad_sequence(i_list, batch_first=True, padding_value=0)\nj_batch = pad_sequence(j_list, batch_first=True, padding_value=0)\nd_batch = pad_sequence(d_list, batch_first=True, padding_value=0.0)\n\n# Masks for ignoring padded atoms and neighbor entries\nnode_mask = (\n    torch.arange(max_atoms)[None, :]\n    < torch.tensor([p.shape[0] for p in pos_list])[:, None]\n)\npair_mask = (\n    torch.arange(i_batch.shape[1])[None, :]\n    < torch.tensor([len(i) for i in i_list])[:, None]\n)"
      ]
    },
    {
      "cell_type": "markdown",
      "metadata": {},
      "source": [
        "Initialize Ewald calculator\n\n"
      ]
    },
    {
      "cell_type": "code",
      "execution_count": null,
      "metadata": {
        "collapsed": false
      },
      "outputs": [],
      "source": [
        "calculator = torchpme.EwaldCalculator(\n    torchpme.CoulombPotential(smearing=0.5),\n    lr_wavelength=4.0,\n)\ncalculator.to(dtype=dtype)"
      ]
    },
    {
      "cell_type": "markdown",
      "metadata": {},
      "source": [
        "Compute potentials in a batched manner using vmap\n\n"
      ]
    },
    {
      "cell_type": "code",
      "execution_count": null,
      "metadata": {
        "collapsed": false
      },
      "outputs": [],
      "source": [
        "kvectors = torchpme.lib.compute_batched_kvectors(\n    lr_wavelength=calculator.lr_wavelength, cells=cell_batch\n)\n\npotentials_batch = torch.vmap(calculator.forward)(\n    charges_batch,\n    cell_batch,\n    pos_batch,\n    torch.stack((i_batch, j_batch), dim=-1),\n    d_batch,\n    periodic_batch,\n    node_mask,\n    pair_mask,\n    kvectors,\n)"
      ]
    },
    {
      "cell_type": "code",
      "execution_count": null,
      "metadata": {
        "collapsed": false
      },
      "outputs": [],
      "source": [
        "print(\"Batched potentials shape:\", potentials_batch.shape)\nprint(potentials_batch)"
      ]
    },
    {
      "cell_type": "markdown",
      "metadata": {},
      "source": [
        "Compare performance of batched vs. looped computation\n\n"
      ]
    },
    {
      "cell_type": "code",
      "execution_count": null,
      "metadata": {
        "collapsed": false
      },
      "outputs": [],
      "source": [
        "n_iter = 100\n\nt0 = time.perf_counter()\nfor _ in range(n_iter):\n    _ = torch.vmap(calculator.forward)(\n        charges_batch,\n        cell_batch,\n        pos_batch,\n        torch.stack((i_batch, j_batch), dim=-1),\n        d_batch,\n        periodic_batch,\n        node_mask,\n        pair_mask,\n        kvectors,\n    )\nt_batch = (time.perf_counter() - t0) / n_iter\n\nt0 = time.perf_counter()\nfor _ in range(n_iter):\n    for k in range(len(pos_list)):\n        _ = calculator.forward(\n            charges_list[k],\n            cell_list[k],\n            pos_list[k],\n            torch.stack((i_list[k], j_list[k]), dim=-1),\n            d_list[k],\n            periodic_list[k],\n        )\nt_loop = (time.perf_counter() - t0) / n_iter\n\nprint(f\"Average time per batched call: {t_batch:.6f} s\")\nprint(f\"Average time per loop call:    {t_loop:.6f} s\")\nprint(\"Batched is faster\" if t_batch < t_loop else \"Loop is faster\")"
      ]
    }
  ],
  "metadata": {
    "kernelspec": {
      "display_name": "Python 3",
      "language": "python",
      "name": "python3"
    },
    "language_info": {
      "codemirror_mode": {
        "name": "ipython",
        "version": 3
      },
      "file_extension": ".py",
      "mimetype": "text/x-python",
      "name": "python",
      "nbconvert_exporter": "python",
      "pygments_lexer": "ipython3",
      "version": "3.13.7"
    }
  },
  "nbformat": 4,
  "nbformat_minor": 0
}