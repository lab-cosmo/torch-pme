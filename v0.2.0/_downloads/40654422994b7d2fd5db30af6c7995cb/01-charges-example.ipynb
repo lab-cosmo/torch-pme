{
  "cells": [
    {
      "cell_type": "markdown",
      "metadata": {},
      "source": [
        "\n# Computations with Multiple Charge Channels\n\n.. currentmodule:: torchpme\n\nIn a physical system, the (electrical) charge is a scalar atomic property, and besides\nthe distance between the particles, the charge defines the electrostatic potential. When\ncomputing a potential with Meshlode, you can not only pass a (reshaped) 1-D array\ncontaining the charges to the ``compute`` method of calculators, but you can also pass a\n2-D array containing multiple charges per atom. Meshlode will then calculate one\npotential per so-called *charge-channel*. For the standard electrostatic potential, the\nnumber of charge channels is *1*. Additional charge channels are especially useful in a\nmachine learning task where, for example, one wants to create one potential for each\nspecies in an atomistic system using a so-called *one-hot encoding* of charges.\n\nHere, we will demonstrate how to use the ability of multiple charge channels for a\n*CsCl* crystal, where we will cover both the Torch and Metatensor interfaces of\nMeshlode.\n\n## Torch Version\nFirst, we will work with the Torch version of Meshlode. This involves using `PyTorch`_\nfor tensor operations and `ASE`_ (Atomic Simulation Environment) for creating and\nmanipulating atomic structures.\n\n"
      ]
    },
    {
      "cell_type": "code",
      "execution_count": null,
      "metadata": {
        "collapsed": false
      },
      "outputs": [],
      "source": [
        "import torch\nimport vesin.torch\nimport vesin.torch.metatensor\nfrom metatensor.torch import Labels, TensorBlock\nfrom metatensor.torch.atomistic import NeighborListOptions, System\n\nimport torchpme\nfrom torchpme.tuning import tune_pme"
      ]
    },
    {
      "cell_type": "markdown",
      "metadata": {},
      "source": [
        "Create the properties CsCl unit cell\n\n"
      ]
    },
    {
      "cell_type": "code",
      "execution_count": null,
      "metadata": {
        "collapsed": false
      },
      "outputs": [],
      "source": [
        "symbols = (\"Cs\", \"Cl\")\ntypes = torch.tensor([55, 17])\ncharges = torch.tensor([[1.0], [-1.0]], dtype=torch.float64)\npositions = torch.tensor([(0, 0, 0), (0.5, 0.5, 0.5)], dtype=torch.float64)\ncell = torch.eye(3, dtype=torch.float64)\npbc = torch.tensor([True, True, True])"
      ]
    },
    {
      "cell_type": "markdown",
      "metadata": {},
      "source": [
        "Based on our system we will first *tune* the PME parameters for an accurate computation.\nThe ``sum_squared_charges`` is equal to ``2.0`` becaue each atom either has a charge\nof 1 or -1 in units of elementary charges.\n\n"
      ]
    },
    {
      "cell_type": "code",
      "execution_count": null,
      "metadata": {
        "collapsed": false
      },
      "outputs": [],
      "source": [
        "cutoff = 4.4\nnl = vesin.torch.NeighborList(cutoff=cutoff, full_list=False)\nneighbor_indices, neighbor_distances = nl.compute(\n    points=positions.to(dtype=torch.float64, device=\"cpu\"),\n    box=cell.to(dtype=torch.float64, device=\"cpu\"),\n    periodic=True,\n    quantities=\"Pd\",\n)\nsmearing, pme_params, _ = tune_pme(\n    charges=charges,\n    cell=cell,\n    positions=positions,\n    cutoff=cutoff,\n    neighbor_indices=neighbor_indices,\n    neighbor_distances=neighbor_distances,\n)"
      ]
    },
    {
      "cell_type": "markdown",
      "metadata": {},
      "source": [
        "The tuning found the following best values for our system.\n\n"
      ]
    },
    {
      "cell_type": "code",
      "execution_count": null,
      "metadata": {
        "collapsed": false
      },
      "outputs": [],
      "source": [
        "print(\"smearing:\", smearing)\nprint(\"PME parameters:\", pme_params)\nprint(\"cutoff:\", cutoff)"
      ]
    },
    {
      "cell_type": "markdown",
      "metadata": {},
      "source": [
        "Based on the system we compute the corresponding half neighbor list using [vesin](https://luthaf.fr/vesin) and rearrange the results to be suitable for the\ncalculations below.\n\n"
      ]
    },
    {
      "cell_type": "code",
      "execution_count": null,
      "metadata": {
        "collapsed": false
      },
      "outputs": [],
      "source": [
        "nl = vesin.torch.NeighborList(cutoff=cutoff, full_list=False)\n\nneighbor_indices, S, D, neighbor_distances = nl.compute(\n    points=positions, box=cell, periodic=True, quantities=\"PSDd\"\n)"
      ]
    },
    {
      "cell_type": "markdown",
      "metadata": {},
      "source": [
        "Next, we initialize the :class:`PMECalculator` calculator with an ``exponent`` of\n*1* for electrostatic interactions between the two atoms. This calculator\nwill be used to *compute* the potential energy of the system.\n\n"
      ]
    },
    {
      "cell_type": "code",
      "execution_count": null,
      "metadata": {
        "collapsed": false
      },
      "outputs": [],
      "source": [
        "calculator = torchpme.PMECalculator(\n    torchpme.CoulombPotential(smearing=smearing), **pme_params\n)"
      ]
    },
    {
      "cell_type": "markdown",
      "metadata": {},
      "source": [
        "### Single Charge Channel\n\nAs a first application of multiple charge channels, we start simply by using the\nclassic definition of one charge channel per atom.\n\n"
      ]
    },
    {
      "cell_type": "code",
      "execution_count": null,
      "metadata": {
        "collapsed": false
      },
      "outputs": [],
      "source": [
        "charges = torch.tensor([[1.0], [-1.0]], dtype=torch.float64)"
      ]
    },
    {
      "cell_type": "markdown",
      "metadata": {},
      "source": [
        "Any input the calculators has to be a 2D array where the *rows* describe the number of\natoms (here ``(2)``) and the *columns* the number of atomic charge channels (here\n``(1)``).\n\n"
      ]
    },
    {
      "cell_type": "code",
      "execution_count": null,
      "metadata": {
        "collapsed": false
      },
      "outputs": [],
      "source": [
        "print(charges.shape)"
      ]
    },
    {
      "cell_type": "markdown",
      "metadata": {},
      "source": [
        "Calculate the potential using the PMECalculator calculator\n\n"
      ]
    },
    {
      "cell_type": "code",
      "execution_count": null,
      "metadata": {
        "collapsed": false
      },
      "outputs": [],
      "source": [
        "potential = calculator(\n    positions=positions,\n    cell=cell,\n    charges=charges,\n    neighbor_indices=neighbor_indices,\n    neighbor_distances=neighbor_distances,\n)"
      ]
    },
    {
      "cell_type": "markdown",
      "metadata": {},
      "source": [
        "We find a potential that is close to the Madelung constant of a CsCl crystal which is\n$2 \\cdot 1.76267 / \\sqrt{3} \\approx 2.0354$.\n\n"
      ]
    },
    {
      "cell_type": "code",
      "execution_count": null,
      "metadata": {
        "collapsed": false
      },
      "outputs": [],
      "source": [
        "print(charges.T @ potential)"
      ]
    },
    {
      "cell_type": "markdown",
      "metadata": {},
      "source": [
        "### Species-wise One-Hot Encoded Charges\n\nNow we will compute the potential with multiple channels for the charges. We will use\none channel per species and set the charges to *1* if the atomic ``symbol`` fits the\ncorrect channel. This is called one-hot encoding for each species.\n\nOne-hot encoding is a powerful technique in machine learning where categorical data is\nconverted into a binary vector representation. Each category is represented by a\nvector with all elements set to zero except for the index corresponding to that\ncategory, which is set to one. This allows the model to easily distinguish between\ndifferent categories without imposing any ordinal relationship between them. In the\ncontext of molecular systems, one-hot encoding can be used to represent different\natomic species as separate charge channels, enabling the calculation of\nspecies-specific potentials and facilitating the learning process for machine learning\nalgorithms.\n\n"
      ]
    },
    {
      "cell_type": "code",
      "execution_count": null,
      "metadata": {
        "collapsed": false
      },
      "outputs": [],
      "source": [
        "charges_one_hot = torch.tensor([[1.0, 0.0], [0.0, 1.0]], dtype=torch.float64)"
      ]
    },
    {
      "cell_type": "markdown",
      "metadata": {},
      "source": [
        "While in ``charges`` there was only one row, ``charges_one_hot`` contains two rows\nwhere the first one corresponds to the Na channel and the second one to the Cl\nchannel. Consequently, the charge of the Na atom in the Cl channel at index ``(0,1)``\nof the ``charges_one_hot`` is zero as well as the ``(1,0)`` which corresponds to the\ncharge of Cl in the Na channel.\n\nWe now again calculate the potential using the same :class:`PMECalculator` calculator\nusing the ``charges_one_hot`` as input.\n\n"
      ]
    },
    {
      "cell_type": "code",
      "execution_count": null,
      "metadata": {
        "collapsed": false
      },
      "outputs": [],
      "source": [
        "potential_one_hot = calculator(\n    charges=charges_one_hot,\n    cell=cell,\n    positions=positions,\n    neighbor_indices=neighbor_indices,\n    neighbor_distances=neighbor_distances,\n)"
      ]
    },
    {
      "cell_type": "markdown",
      "metadata": {},
      "source": [
        "Note that the potential has the same shape as the input charges, but there is a finite\npotential on the position of the Cl in the Na channel.\n\n"
      ]
    },
    {
      "cell_type": "code",
      "execution_count": null,
      "metadata": {
        "collapsed": false
      },
      "outputs": [],
      "source": [
        "print(potential_one_hot)"
      ]
    },
    {
      "cell_type": "markdown",
      "metadata": {},
      "source": [
        "From the potential we can recover the Madelung as above by summing the charge channel\ncontribution multiplying by the actual partial charge of the atoms.\n\n"
      ]
    },
    {
      "cell_type": "code",
      "execution_count": null,
      "metadata": {
        "collapsed": false
      },
      "outputs": [],
      "source": [
        "charge_Na = 1.0\ncharge_Cl = -1.0\nprint(charge_Na * potential_one_hot[0] + charge_Cl * potential_one_hot[1])"
      ]
    },
    {
      "cell_type": "markdown",
      "metadata": {},
      "source": [
        "## Metatensor Version\nNext, we will perform the same exercise with the Metatensor interface. This involves\ncreating a new calculator with the metatensor interface.\n\n"
      ]
    },
    {
      "cell_type": "code",
      "execution_count": null,
      "metadata": {
        "collapsed": false
      },
      "outputs": [],
      "source": [
        "calculator_metatensor = torchpme.metatensor.PMECalculator(\n    torchpme.CoulombPotential(smearing=smearing), **pme_params\n)"
      ]
    },
    {
      "cell_type": "markdown",
      "metadata": {},
      "source": [
        "Computation with metatensor involves using Metatensor's :class:`System\n<metatensor.torch.atomistic.System>` class. The ``System`` stores atomic ``types``,\n``positions``, and ``cell`` dimensions.\n\n<div class=\"alert alert-info\"><h4>Note</h4><p>For our calculations, the parameter ``types`` passed to a ``System`` is redundant;\n   it will not be directly used to calculate the potential as the potential depends\n   only on the charge of the atom, NOT on the atom's type. However, we still have to\n   pass them because it is an obligatory parameter to build the `System` class.</p></div>\n\n"
      ]
    },
    {
      "cell_type": "code",
      "execution_count": null,
      "metadata": {
        "collapsed": false
      },
      "outputs": [],
      "source": [
        "system = System(types=types, positions=positions, cell=cell, pbc=pbc)"
      ]
    },
    {
      "cell_type": "markdown",
      "metadata": {},
      "source": [
        "We now compute the neighborlist for our ``system`` using the [vesin metatensor\ninterface](https://luthaf.fr/vesin/latest/metatensor.html). This requires creating a\n:class:`NeighborListOptions <metatensor.torch.atomistic.NeighborListOptions>` to set\nthe cutoff and the type of list.\n\n"
      ]
    },
    {
      "cell_type": "code",
      "execution_count": null,
      "metadata": {
        "collapsed": false
      },
      "outputs": [],
      "source": [
        "options = NeighborListOptions(cutoff=4.0, full_list=True, strict=False)\nnl_mts = vesin.torch.metatensor.NeighborList(options, length_unit=\"Angstrom\")\nneighbors = nl_mts.compute(system)"
      ]
    },
    {
      "cell_type": "markdown",
      "metadata": {},
      "source": [
        "Now the ``system`` is ready to be used inside the calculators\n\n### Single Charge Channel\n\nFor the metatensor branch, charges of the atoms are defined in a tensor format and\nattached to the system as a :class:`TensorBlock <metatensor.torch.TensorBlock>`.\n\n"
      ]
    },
    {
      "cell_type": "code",
      "execution_count": null,
      "metadata": {
        "collapsed": false
      },
      "outputs": [],
      "source": [
        "# Create a TensorBlock for the charges\ndata = TensorBlock(\n    values=charges,\n    samples=Labels.range(\"atom\", charges.shape[0]),\n    components=[],\n    properties=Labels.range(\"charge\", charges.shape[1]),\n)"
      ]
    },
    {
      "cell_type": "markdown",
      "metadata": {},
      "source": [
        "Add the charges data to the system\n\n"
      ]
    },
    {
      "cell_type": "code",
      "execution_count": null,
      "metadata": {
        "collapsed": false
      },
      "outputs": [],
      "source": [
        "system.add_data(name=\"charges\", data=data)"
      ]
    },
    {
      "cell_type": "markdown",
      "metadata": {},
      "source": [
        "We now calculate the potential using the MetaPMECalculator calculator\n\n"
      ]
    },
    {
      "cell_type": "code",
      "execution_count": null,
      "metadata": {
        "collapsed": false
      },
      "outputs": [],
      "source": [
        "potential_metatensor = calculator_metatensor.forward(system, neighbors)"
      ]
    },
    {
      "cell_type": "markdown",
      "metadata": {},
      "source": [
        "The calculated potential is wrapped inside a :class:`TensorMap\n<metatensor.torch.TensorMap>` and annotated with metadata of the computation.\n\n"
      ]
    },
    {
      "cell_type": "code",
      "execution_count": null,
      "metadata": {
        "collapsed": false
      },
      "outputs": [],
      "source": [
        "print(potential_metatensor)"
      ]
    },
    {
      "cell_type": "markdown",
      "metadata": {},
      "source": [
        "The tensorMap has *1* :class:`TensorBlock <metatensor.torch.TensorBlock>` and the\nvalues of the potential are stored in the ``values`` property.\n\n"
      ]
    },
    {
      "cell_type": "code",
      "execution_count": null,
      "metadata": {
        "collapsed": false
      },
      "outputs": [],
      "source": [
        "print(potential_metatensor[0].values)"
      ]
    },
    {
      "cell_type": "markdown",
      "metadata": {},
      "source": [
        "The ``values`` are the same results as for the torch interface shown above\nThe metadata associated with the ``TensorBlock`` tells us that we have 2 ``samples``\nwhich are our two atoms and 1 property which corresponds to one charge channel.\n\n"
      ]
    },
    {
      "cell_type": "code",
      "execution_count": null,
      "metadata": {
        "collapsed": false
      },
      "outputs": [],
      "source": [
        "print(potential_metatensor[0])"
      ]
    },
    {
      "cell_type": "markdown",
      "metadata": {},
      "source": [
        "If you want to inspect the metadata in more detail, you can access the\n:class:`Labels <metatensor.torch.Labels>` using the\n``potential_metatensor[0].properties`` and ``potential_metatensor[0].samples``\nattributes.\n\n### Species-wise One-Hot Encoded Charges\n\nWe now create new charges data based on the species-wise ``charges_one_hot`` and\noverwrite the ``system``'s charges data using ``override=True`` when applying the\n:meth:`add_data <metatensor.torch.atomistic.System.add_data>` method.\n\n"
      ]
    },
    {
      "cell_type": "code",
      "execution_count": null,
      "metadata": {
        "collapsed": false
      },
      "outputs": [],
      "source": [
        "data_one_hot = TensorBlock(\n    values=charges_one_hot,\n    samples=Labels.range(\"atom\", charges_one_hot.shape[0]),\n    components=[],\n    properties=Labels.range(\"charge\", charges_one_hot.shape[1]),\n)\n\n# Add the charges data to the system\nsystem.add_data(name=\"charges\", data=data_one_hot, override=True)"
      ]
    },
    {
      "cell_type": "markdown",
      "metadata": {},
      "source": [
        "Finally, we calculate the potential using ``calculator_metatensor``\n\n"
      ]
    },
    {
      "cell_type": "code",
      "execution_count": null,
      "metadata": {
        "collapsed": false
      },
      "outputs": [],
      "source": [
        "potential = calculator_metatensor.forward(system, neighbors)"
      ]
    },
    {
      "cell_type": "markdown",
      "metadata": {},
      "source": [
        "And as above, the values of the potential are the same.\n\n"
      ]
    },
    {
      "cell_type": "code",
      "execution_count": null,
      "metadata": {
        "collapsed": false
      },
      "outputs": [],
      "source": [
        "print(potential[0].values)"
      ]
    }
  ],
  "metadata": {
    "kernelspec": {
      "display_name": "Python 3",
      "language": "python",
      "name": "python3"
    },
    "language_info": {
      "codemirror_mode": {
        "name": "ipython",
        "version": 3
      },
      "file_extension": ".py",
      "mimetype": "text/x-python",
      "name": "python",
      "nbconvert_exporter": "python",
      "pygments_lexer": "ipython3",
      "version": "3.12.8"
    }
  },
  "nbformat": 4,
  "nbformat_minor": 0
}