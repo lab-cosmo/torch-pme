{
  "cells": [
    {
      "cell_type": "markdown",
      "metadata": {},
      "source": [
        "\n# Atomistic model for molecular dynamics\n\n.. currentmodule:: torchpme\n\nIn this example, we demonstrate how to construct a [metatensor atomistic model](https://docs.metatensor.org/latest/atomistic)  based on the `metatensor\ninterface <metatensor>` of ``torchpme``. The model will be used to run a very short\nmolecular dynamics (MD) simulation of a non-neutral hydroden plasma in a cubic box. The\nplasma consists of massive point particles which are interacting pairwise via a Coulomb\nforce which we compute using the :class:`EwaldCalculator`.\n\nThe tutorial assumes knowledge of ``torchpme`` and how to export an metatensor atomistic\nmodel to run it with the ASE calculator. For learning these details we refer to the\n[metatensor atomistic tutorials](https://docs.metatensor.org/latest/examples/atomistic/index.html).\n"
      ]
    },
    {
      "cell_type": "code",
      "execution_count": null,
      "metadata": {
        "collapsed": false
      },
      "outputs": [],
      "source": [
        "from typing import Dict, List, Optional  # noqa\n\n# tools to run the simulation and visualization\nimport ase.md\nimport ase.visualize.plot\nimport ase.md.velocitydistribution\nimport chemiscope\nimport metatensor.torch\nimport matplotlib.pyplot as plt\n\n# tools to wrap and run the model\nimport numpy as np\nimport torch\nfrom metatensor.torch import Labels, TensorBlock, TensorMap\nfrom metatomic.torch import (\n    AtomisticModel,\n    ModelCapabilities,\n    ModelEvaluationOptions,\n    ModelMetadata,\n    ModelOutput,\n    NeighborListOptions,\n    System,\n)\n\n# Integration with ASE calculator for metatensor atomistic models\nfrom metatomic.torch.ase_calculator import MetatomicCalculator\n\n# the usual suspect\nimport torchpme"
      ]
    },
    {
      "cell_type": "markdown",
      "metadata": {},
      "source": [
        "## The simulation system\n\nCreate a system of 12 hydrogen atoms in a cubic periodic box of $10\\,\\text{\u00c5}$\nside length.\n\n"
      ]
    },
    {
      "cell_type": "code",
      "execution_count": null,
      "metadata": {
        "collapsed": false
      },
      "outputs": [],
      "source": [
        "rng = np.random.default_rng(42)\natoms = ase.Atoms(\n    12 * \"H\",\n    positions=10 * rng.random([12, 3]),\n    cell=10 * np.eye(3),\n    pbc=True,\n)"
      ]
    },
    {
      "cell_type": "markdown",
      "metadata": {},
      "source": [
        "We now can visualize the system with [chemiscope](https://chemiscope.org).\n\n"
      ]
    },
    {
      "cell_type": "code",
      "execution_count": null,
      "metadata": {
        "collapsed": false
      },
      "outputs": [],
      "source": [
        "chemiscope.show(\n    [atoms],\n    mode=\"structure\",\n    settings=chemiscope.quick_settings(\n        trajectory=True, structure_settings={\"unitCell\": True}\n    ),\n)"
      ]
    },
    {
      "cell_type": "markdown",
      "metadata": {},
      "source": [
        "## Assigning charges\n\nFor computing the electrostatic potential we need to assign ``charges`` to a\n:class:`metatomic.torch.System` since ``charges`` will not be provided by\nthe engine. Here, we define a simple charge assignment scheme based on the atomic\nnumber. We set the partial charge of all hydrogens $1$ in terms of the\nelementary charge. Such an assignemnt scheme can also be more complex and for example\ndeduce the charges from a short range machine learning model.\n\n"
      ]
    },
    {
      "cell_type": "code",
      "execution_count": null,
      "metadata": {
        "collapsed": false
      },
      "outputs": [],
      "source": [
        "def add_charges(system: System) -> None:\n    dtype = system.positions.dtype\n    device = system.positions.device\n\n    # set charges of all atoms to 1\n    charges = torch.ones(len(system), 1, dtype=dtype, device=device)\n\n    # Create metadata for the charges TensorBlock\n    samples = Labels(\"atom\", torch.arange(len(system), device=device).reshape(-1, 1))\n    properties = Labels(\"charge\", torch.zeros(1, 1, device=device, dtype=torch.int32))\n    block = TensorBlock(\n        values=charges, samples=samples, components=[], properties=properties\n    )\n\n    tensor = TensorMap(\n        keys=Labels(\"_\", torch.zeros(1, 1, dtype=torch.int32)), blocks=[block]\n    )\n\n    system.add_data(name=\"charges\", tensor=tensor)"
      ]
    },
    {
      "cell_type": "markdown",
      "metadata": {},
      "source": [
        "<div class=\"alert alert-danger\"><h4>Warning</h4><p>Having non-charge neutral system is not problematic for this simulation. Even though\n  any Ewald method requires a charge-neutral system, charged system will be\n  neutralized by adding an homogenous background density. This background charge adds\n  an additional contribution to the real-space interaction which is already accountaed\n  for by torchpme. For homogenous and isotropic systems a nonzero background charge\n  will not have an effect on the simulation but it will for inhomgenous system. For\n  more information see e.g. [Hub et.al](http://dx.doi.org/10.1021/ct400626b).</p></div>\n\nWe now test the assignmenet by creating a test ``system`` and adding the charges.\n\n"
      ]
    },
    {
      "cell_type": "code",
      "execution_count": null,
      "metadata": {
        "collapsed": false
      },
      "outputs": [],
      "source": [
        "system = System(\n    types=torch.from_numpy(atoms.get_atomic_numbers()),\n    positions=torch.from_numpy(atoms.positions),\n    cell=torch.from_numpy(atoms.cell.array),\n    pbc=torch.from_numpy(atoms.pbc),\n)\n\nadd_charges(system)\n\nprint(system.get_data(\"charges\").block().values)"
      ]
    },
    {
      "cell_type": "markdown",
      "metadata": {},
      "source": [
        "As expected the charges are assigned to all atoms based on their atomic number.\n\n## The model\n\nWe now define the atomistic model that computes the potential based on a given\n``calculator`` and the ``cutoff``. The ``cutoff`` is required to define the neighbor\nlist which will be used to compute the short range part of the potential. The design\nof the model is inspire by the [Lennard-Jones model](https://github.com/Luthaf/metatensor-lj-test/blob/main/src/metatensor_lj_test/pure.py).\n\nInside the ``forward`` method we compute the potential at the atomci positions,\nwhich is then multiplied by the formal \"charges\" to obtain a per-atom energy.\n\n"
      ]
    },
    {
      "cell_type": "code",
      "execution_count": null,
      "metadata": {
        "collapsed": false
      },
      "outputs": [],
      "source": [
        "class CalculatorModel(torch.nn.Module):\n    def __init__(self, calculator: torchpme.metatensor.Calculator, cutoff: float):\n        super().__init__()\n\n        self.calculator = calculator\n\n        # We use a half neighborlist and allow to have pairs farther than cutoff\n        # (`strict=False`) since this is not problematic for PME and may speed up the\n        # computation of the neigbors.\n        self.nl = NeighborListOptions(cutoff=cutoff, full_list=False, strict=False)\n\n    def requested_neighbor_lists(self):\n        return [self.nl]\n\n    def _setup_systems(\n        self,\n        systems: list[System],\n        selected_atoms: Optional[Labels] = None,\n    ) -> tuple[System, TensorBlock]:\n        \"\"\"Remove possible ghost atoms and add charges to the system.\"\"\"\n        if len(systems) > 1:\n            raise ValueError(f\"only one system supported, got {len(systems)}\")\n\n        system_i = 0\n        system = systems[system_i]\n\n        # select only real atoms and discard ghosts\n        if selected_atoms is not None:\n            current_system_mask = selected_atoms.column(\"system\") == system_i\n            current_atoms = selected_atoms.column(\"atom\")\n            current_atoms = current_atoms[current_system_mask].to(torch.long)\n\n            types = system.types[current_atoms]\n            positions = system.positions[current_atoms]\n        else:\n            types = system.types\n            positions = system.positions\n\n        system_final = System(types, positions, system.cell, system.pbc)\n        add_charges(system_final)\n\n        return system_final, system.get_neighbor_list(self.nl)\n\n    def forward(\n        self,\n        systems: List[System],  # noqa\n        outputs: Dict[str, ModelOutput],  # noqa\n        selected_atoms: Optional[Labels] = None,\n    ) -> Dict[str, TensorMap]:  # noqa\n        if list(outputs.keys()) != [\"energy\"]:\n            raise ValueError(\n                f\"`outputs` keys ({', '.join(outputs.keys())}) contain unsupported \"\n                \"keys. Only 'energy' is supported.\"\n            )\n\n        system, neighbors = self._setup_systems(systems, selected_atoms)\n\n        # compute the potential using torchpme\n        potential = self.calculator.forward(system, neighbors)\n\n        # Create a reference charge block with the same metadata as the potential to\n        # allow multiplcation which requries same metadata\n        charges_block = TensorBlock(\n            values=system.get_data(\"charges\").block().values,\n            samples=potential[0].samples,\n            components=potential[0].components,\n            properties=potential[0].properties,\n        )\n        charge_map = TensorMap(keys=potential.keys, blocks=[charges_block])\n        energy_per_atom = metatensor.torch.multiply(potential, charge_map)\n\n        if outputs[\"energy\"].per_atom:\n            energy = energy_per_atom\n        else:\n            energy = metatensor.torch.sum_over_samples(\n                energy_per_atom, sample_names=\"atom\"\n            )\n\n        # Rename property label to follow metatensor's covention for an atomistic model\n        old_block = energy[0]\n        block = TensorBlock(\n            values=old_block.values,\n            samples=old_block.samples,\n            components=old_block.components,\n            properties=old_block.properties.rename(\"charges_channel\", \"energy\"),\n        )\n\n        return {\"energy\": TensorMap(keys=energy.keys, blocks=[block])}"
      ]
    },
    {
      "cell_type": "markdown",
      "metadata": {},
      "source": [
        "<div class=\"alert alert-danger\"><h4>Warning</h4><p></p></div>\n\n Due to limitatations in the engine interface of the :class:`AtomisticModel\n <metatomic.torch.AtomisticModel>`, the evaluation of the energy for a\n subset of atoms is not supported. If you want to compute the energy for a subset you\n have to filter the contributions after the computation of the whole system.\n\n\n## Define a calculator\n\nTo test the model we need to define a calculator that computes the potential. We here\nuse a the :class:`metatensor.EwaldCalculator` and a :class:`CoulombPotential`.\n\n<div class=\"alert alert-info\"><h4>Note</h4><p>We here use the Ewald method and PME because the system only contains 16 atoms. For\n   such small systems the Ewald method is up to 6 times faster compared to PME. If\n   your system reaches a size of 1000 atoms it is recommended to use\n   :class:`metatensor.PMECalculator`, or :class:`metatensor.P3MCalculator` that implements\n   the particle-particle/particle-mesh method. See at the end of this tutorial for an example.</p></div>\n\nThese are rather tight settings you can try :func:`tune_ewald <tuning.tune_ewald>` to\ndetermine automatically parameters with a target accuracy\n\n"
      ]
    },
    {
      "cell_type": "code",
      "execution_count": null,
      "metadata": {
        "collapsed": false
      },
      "outputs": [],
      "source": [
        "smearing, ewald_params, cutoff = 8.0, {\"lr_wavelength\": 64.0}, 32.0"
      ]
    },
    {
      "cell_type": "markdown",
      "metadata": {},
      "source": [
        "We now define an Ewald calculator with a Coulomb potential.\n\n"
      ]
    },
    {
      "cell_type": "code",
      "execution_count": null,
      "metadata": {
        "collapsed": false
      },
      "outputs": [],
      "source": [
        "calculator = torchpme.metatensor.EwaldCalculator(\n    torchpme.CoulombPotential(smearing=smearing),\n    **ewald_params,\n    prefactor=torchpme.prefactors.eV_A,\n)"
      ]
    },
    {
      "cell_type": "markdown",
      "metadata": {},
      "source": [
        "## Define model metatdata\n\nWe now initilize the model and wrap it in a metatensor atomistic model defining all\nnecessary metatdata.\n\nThis contains the (energy) units and length units.\n\n"
      ]
    },
    {
      "cell_type": "code",
      "execution_count": null,
      "metadata": {
        "collapsed": false
      },
      "outputs": [],
      "source": [
        "energy_unit = \"eV\"\nlength_unit = \"angstrom\""
      ]
    },
    {
      "cell_type": "markdown",
      "metadata": {},
      "source": [
        "We now have to define what our model is able to compute. The\n:class:`metatomic.torch.ModelOutput` defines that the model will compute\nthe energy in eV. Besides the obvous parameters (``atomic_types``,\n``supported_devices`` and the ``dtype``) it is very important to set\n``interaction_range`` to be **infinite**. For a finite range the provided system of\nthe engine might only contain a subset of the system which will lead to wrong results!\n\n"
      ]
    },
    {
      "cell_type": "code",
      "execution_count": null,
      "metadata": {
        "collapsed": false
      },
      "outputs": [],
      "source": [
        "outputs = {\"energy\": ModelOutput(quantity=\"energy\", unit=energy_unit, per_atom=False)}\noptions = ModelEvaluationOptions(\n    length_unit=length_unit, outputs=outputs, selected_atoms=None\n)\n\nmodel_capabilities = ModelCapabilities(\n    outputs=outputs,\n    atomic_types=[1],\n    interaction_range=torch.inf,\n    length_unit=length_unit,\n    supported_devices=[\"cpu\", \"cuda\"],\n    dtype=\"float32\",\n)"
      ]
    },
    {
      "cell_type": "markdown",
      "metadata": {},
      "source": [
        "## Initilize and wrap the model\n\n"
      ]
    },
    {
      "cell_type": "code",
      "execution_count": null,
      "metadata": {
        "collapsed": false
      },
      "outputs": [],
      "source": [
        "model = CalculatorModel(calculator=calculator, cutoff=cutoff)\nmodel.eval()\n\natomistic_model = AtomisticModel(model.eval(), ModelMetadata(), model_capabilities)"
      ]
    },
    {
      "cell_type": "markdown",
      "metadata": {},
      "source": [
        "We'll run the simulation in the constant volume/temperature thermodynamic ensemble\n(NVT or Canonical ensemble), using a Langevin thermostat for time integration. Please\nrefer to the corresponding documentation (:class:`ase.md.langevin.Langevin`) for more\ninformation!\n\nTo start the simulation we first set the ``atomistic_model`` as the calculator for our\nplasma.\n\n"
      ]
    },
    {
      "cell_type": "code",
      "execution_count": null,
      "metadata": {
        "collapsed": false
      },
      "outputs": [],
      "source": [
        "ewald_mta_calculator = MetatomicCalculator(atomistic_model)\natoms.calc = ewald_mta_calculator"
      ]
    },
    {
      "cell_type": "markdown",
      "metadata": {},
      "source": [
        "Set initial velocities according to the Maxwell-Boltzmann distribution\n\n"
      ]
    },
    {
      "cell_type": "code",
      "execution_count": null,
      "metadata": {
        "collapsed": false
      },
      "outputs": [],
      "source": [
        "ase.md.velocitydistribution.MaxwellBoltzmannDistribution(atoms, 10_000 * ase.units.kB)"
      ]
    },
    {
      "cell_type": "markdown",
      "metadata": {},
      "source": [
        "Set up the Langevin thermostat for NVT ensemble\n\n"
      ]
    },
    {
      "cell_type": "code",
      "execution_count": null,
      "metadata": {
        "collapsed": false
      },
      "outputs": [],
      "source": [
        "integrator = ase.md.Langevin(\n    atoms,\n    timestep=2 * ase.units.fs,\n    temperature_K=10_000,\n    friction=0.1 / ase.units.fs,\n)"
      ]
    },
    {
      "cell_type": "markdown",
      "metadata": {},
      "source": [
        "## Run the simulation\n\nWe now have everything in place run the simulation for 50 steps\n($2\\,\\mathrm{fs}$) and collect the potential, kinetic and total energy as well\nas the temperature and pressure.\n\n"
      ]
    },
    {
      "cell_type": "code",
      "execution_count": null,
      "metadata": {
        "collapsed": false
      },
      "outputs": [],
      "source": [
        "n_steps = 500\n\npotential_energy = np.zeros(n_steps)\nkinetic_energy = np.zeros(n_steps)\ntotal_energy = np.zeros(n_steps)\ntemperature = np.zeros(n_steps)\npressure = np.zeros(n_steps)\ntrajectory = []\n\nfor i_step in range(n_steps):\n    integrator.run(1)\n\n    # collect data about the simulation\n    trajectory.append(atoms.copy())\n    potential_energy[i_step] = atoms.get_potential_energy()\n    kinetic_energy[i_step] = atoms.get_kinetic_energy()\n    total_energy[i_step] = atoms.get_total_energy()\n    temperature[i_step] = atoms.get_temperature()\n    pressure[i_step] = -np.diagonal(atoms.get_stress(voigt=False)).mean()"
      ]
    },
    {
      "cell_type": "markdown",
      "metadata": {},
      "source": [
        "We can now use [chemiscope](https://chemiscope.org) to visualize the trajectory.\nFor better visualization we wrap the atoms inside the unit cell.\n\n"
      ]
    },
    {
      "cell_type": "code",
      "execution_count": null,
      "metadata": {
        "collapsed": false
      },
      "outputs": [],
      "source": [
        "for atoms in trajectory:\n    atoms.wrap()\n\nchemiscope.show(\n    trajectory,\n    mode=\"structure\",\n    settings=chemiscope.quick_settings(\n        trajectory=True, structure_settings={\"unitCell\": True}\n    ),\n)"
      ]
    },
    {
      "cell_type": "markdown",
      "metadata": {},
      "source": [
        "## Analyze the results\n\nAnd look at the time evolution of some physical constants for our system\n\n"
      ]
    },
    {
      "cell_type": "code",
      "execution_count": null,
      "metadata": {
        "collapsed": false
      },
      "outputs": [],
      "source": [
        "fig, ax = plt.subplots(3, figsize=(8, 5), sharex=True)\n\ntime = 2.0 * np.arange(n_steps)\n\nax[0].plot(time, potential_energy, label=\"potential energy\")\nax[0].plot(time, kinetic_energy, label=\"kinetic energy\")\nax[0].plot(time, total_energy, label=\"total energy\")\nax[0].legend(ncol=3)\nax[0].set_ylabel(\"energy [eV]\")\n\nax[1].plot(time, temperature, label=\"temperature\")\nax[1].axhline(10_000, color=\"black\", linestyle=\"--\", label=\"target temperature\")\nax[1].legend(ncol=2)\nax[1].set_ylabel(\"temperature [K]\")\n\nax[2].plot(time, pressure)\nax[2].set_ylabel(\"pressure [eV \u00c5$^{-3}$]\")\n\nax[-1].set_xlabel(\"time / fs\")\n\nfig.align_labels()\nplt.show()"
      ]
    },
    {
      "cell_type": "markdown",
      "metadata": {},
      "source": [
        "Given the presence of a Langevin thermostat, the total energy is not conserved, but\nthe temperature is well-controlled and fluctuates around the target value of 10,000 K.\nThe metatensor interface also is able to compute the pressure of the simulation via auto\ndifferentiation, which is plotted as well. If you want to know more about thermostats\nand constant-temperature molecular dynamics, you can see [this tutorial](https://atomistic-cookbook.org/examples/thermostats/thermostats.html).\n\nThis atomistic model can also be used in other engines like LAMMPS. See the metatensor\natomistic page on [supported simulation engines](https://docs.metatensor.org/latest/atomistic/engines). The presented model can also\nbe used in more complex sitatuations, e.g. to compute only the electrostatic potential\nwhile other parts of the simulations such as the Lennard-Jones potential are computed by\nother calculators inside the simulation engine.\n\n"
      ]
    },
    {
      "cell_type": "markdown",
      "metadata": {},
      "source": [
        "# A comparison between calculators\n\nEven though, as discussed above, for such a small simulation the Ewald method is likely\nto be the most efficient, it is easy to set up a model that uses the PME, or P3M,\ncalculators in ``torchpme``. For example,\n\n"
      ]
    },
    {
      "cell_type": "code",
      "execution_count": null,
      "metadata": {
        "collapsed": false
      },
      "outputs": [],
      "source": [
        "# PME\nsmearing, ewald_params, cutoff = (\n    0.5,\n    {\"mesh_spacing\": 0.25, \"interpolation_nodes\": 4},\n    8.0,\n)\n\npme_calculator = torchpme.metatensor.PMECalculator(\n    torchpme.CoulombPotential(smearing=smearing),\n    **ewald_params,\n    prefactor=torchpme.prefactors.eV_A,\n)\n\npme_model = CalculatorModel(calculator=pme_calculator, cutoff=cutoff)\n\npme_atomistic_model = AtomisticModel(\n    pme_model.eval(), ModelMetadata(), model_capabilities\n)\n\npme_mta_calculator = MetatomicCalculator(pme_atomistic_model)\n\n# P3M\np3m_calculator = torchpme.metatensor.P3MCalculator(\n    torchpme.CoulombPotential(smearing=smearing),\n    **ewald_params,\n    prefactor=torchpme.prefactors.eV_A,\n)\n\np3m_model = CalculatorModel(calculator=p3m_calculator, cutoff=cutoff)\n\np3m_atomistic_model = AtomisticModel(\n    p3m_model.eval(), ModelMetadata(), model_capabilities\n)\n\np3m_mta_calculator = MetatomicCalculator(p3m_atomistic_model)"
      ]
    },
    {
      "cell_type": "markdown",
      "metadata": {},
      "source": [
        "We can then compare the values obtained with the two Ewald engines\n\n"
      ]
    },
    {
      "cell_type": "code",
      "execution_count": null,
      "metadata": {
        "collapsed": false
      },
      "outputs": [],
      "source": [
        "# gets the energy from the Ewald calculator\natoms.calc = ewald_mta_calculator\newald_energy = atoms.get_potential_energy()\newald_forces = atoms.get_forces()\n\n# overrides the calculator and computes PME\natoms = atoms.copy()\natoms.calc = pme_mta_calculator\npme_energy = atoms.get_potential_energy()\npme_forces = atoms.get_forces()\n\n# ... and P3M\natoms = atoms.copy()\natoms.calc = p3m_mta_calculator\np3m_energy = atoms.get_potential_energy()\np3m_forces = atoms.get_forces()\n\nprint(\n    f\"Energy (Ewald): {ewald_energy}\\n\"\n    f\"Energy (PME):   {pme_energy}\\n\"\n    f\"Energy (P3M):   {p3m_energy}\\n\"\n)\nprint(\n    f\"Forces (Ewald):\\n{ewald_forces}\\n\\n\"\n    f\"Forces (PME):\\n{pme_forces}\\n\\n\"\n    f\"Forces (P3M):\\n{p3m_forces}\"\n)"
      ]
    },
    {
      "cell_type": "markdown",
      "metadata": {},
      "source": [
        "The above output shows us that these values are very close to each other, as expected.\n\n"
      ]
    }
  ],
  "metadata": {
    "kernelspec": {
      "display_name": "Python 3",
      "language": "python",
      "name": "python3"
    },
    "language_info": {
      "codemirror_mode": {
        "name": "ipython",
        "version": 3
      },
      "file_extension": ".py",
      "mimetype": "text/x-python",
      "name": "python",
      "nbconvert_exporter": "python",
      "pygments_lexer": "ipython3",
      "version": "3.13.3"
    }
  },
  "nbformat": 4,
  "nbformat_minor": 0
}