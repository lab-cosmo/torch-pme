{
  "cells": [
    {
      "cell_type": "markdown",
      "metadata": {},
      "source": [
        "\n\n# Examples of the ``KSpaceFilter`` class\n\n.. currentmodule:: torchpme\n\n:Authors: Michele Ceriotti [@ceriottm](https://github.com/ceriottm/)\n\nThis notebook demonstrates the use of the :class:`KSpaceFilter <lib.KSpaceFilter>`\nclass to transform a density by applying a scalar filter in reciprocal space.\n\nThe class supports many different use cases, and can be reused several times if the\nfilter or the mesh size don't change.\n"
      ]
    },
    {
      "cell_type": "code",
      "execution_count": null,
      "metadata": {
        "collapsed": false
      },
      "outputs": [],
      "source": [
        "from time import time\n\nimport ase\nimport chemiscope\nimport numpy as np\nimport torch\nfrom matplotlib import pyplot as plt\n\nimport torchpme\n\ndevice = \"cpu\"\ndtype = torch.float64"
      ]
    },
    {
      "cell_type": "markdown",
      "metadata": {},
      "source": [
        "## Demonstrates the application of a k-space filter\n\nWe define a fairly rugged function on a mesh, and apply a smoothening filter. We start\ncreating a grid (we use a :class:`MeshInterpolator` object for simplicity to generate\nthe grid with the right shape) and computing a sharp Gaussian field in the $xy$\nplane.\n\n"
      ]
    },
    {
      "cell_type": "code",
      "execution_count": null,
      "metadata": {
        "collapsed": false
      },
      "outputs": [],
      "source": [
        "cell = torch.eye(3, dtype=dtype, device=device) * 6.0\nns_mesh = torch.tensor([9, 9, 9])\ninterpolator = torchpme.lib.MeshInterpolator(\n    cell, ns_mesh, interpolation_nodes=2, method=\"P3M\"\n)\nxyz_mesh = interpolator.get_mesh_xyz()\n\nmesh_value = (\n    np.exp(-4 * ((cell[0, 0] / 2 - xyz_mesh) ** 2)[..., :2].sum(axis=-1))\n).reshape(1, *xyz_mesh.shape[:-1])"
      ]
    },
    {
      "cell_type": "markdown",
      "metadata": {},
      "source": [
        "To define and apply a Gaussian smearing filter, we first define the convolution kernel\nthat must be applied in the Fourier domain, and then use it as a parameter of the\nfilter class. The application of the filter requires simply a call to\n:func:`lib.KSpaceKernel.compute`.\n\n"
      ]
    },
    {
      "cell_type": "code",
      "execution_count": null,
      "metadata": {
        "collapsed": false
      },
      "outputs": [],
      "source": [
        "# This is the filter function. NB it is applied\n# to the *squared k vector norm*\nclass GaussianSmearingKernel(torchpme.lib.KSpaceKernel):\n    def __init__(self, sigma2: float):\n        self._sigma2 = sigma2\n\n    def kernel_from_k_sq(self, k_sq):\n        return torch.exp(-k_sq * self._sigma2 * 0.5)\n\n\n# This is the filter\nkernel_filter = torchpme.lib.KSpaceFilter(\n    cell, ns_mesh, kernel=GaussianSmearingKernel(sigma2=1.0)\n)\n\n# Apply the filter to the mesh\nmesh_filtered = kernel_filter.forward(mesh_value)"
      ]
    },
    {
      "cell_type": "markdown",
      "metadata": {},
      "source": [
        "### Visualize the effect of the filter\nThe Gaussian smearing enacted by the filter can be\neasily visualized taking a slice of the mesh (we make\nit periodic for a cleaner view)\n\n"
      ]
    },
    {
      "cell_type": "code",
      "execution_count": null,
      "metadata": {
        "collapsed": false
      },
      "outputs": [],
      "source": [
        "fig, ax = plt.subplots(\n    1, 2, figsize=(8, 4), sharey=True, sharex=True, constrained_layout=True\n)\nmesh_extent = [\n    0,\n    cell[0, 0],\n    0,\n    cell[1, 1],\n]\n\nz_plot = mesh_value[0, :, :, 0].detach().numpy()\nz_plot = np.vstack([z_plot, z_plot[0, :]])  # Add first row at the bottom\nz_plot = np.hstack(\n    [z_plot, z_plot[:, 0].reshape(-1, 1)]\n)  # Add first column at the right\n\nz_min, z_max = (z_plot.min(), z_plot.max())\n\ncf = ax[0].imshow(\n    z_plot,\n    extent=mesh_extent,\n    vmin=z_min,\n    vmax=z_max,\n    origin=\"lower\",\n    interpolation=\"bilinear\",\n)\n\nz_plot = mesh_filtered[0, :, :, 0].detach().numpy()\nz_plot = np.vstack([z_plot, z_plot[0, :]])  # Add first row at the bottom\nz_plot = np.hstack(\n    [z_plot, z_plot[:, 0].reshape(-1, 1)]\n)  # Add first column at the right\n\ncf_fine = ax[1].imshow(\n    z_plot,\n    extent=mesh_extent,\n    vmin=z_min,\n    vmax=z_max,\n    origin=\"lower\",\n    interpolation=\"bilinear\",\n)\nax[0].set_xlabel(\"x / \u00c5\")\nax[1].set_xlabel(\"x / \u00c5\")\nax[0].set_ylabel(\"y / \u00c5\")\nax[0].set_title(r\"input values\")\nax[1].set_title(r\"filtered\")\nfig.colorbar(cf_fine, label=r\"density / e/\u00c5$^3$\")\nfig.show()"
      ]
    },
    {
      "cell_type": "markdown",
      "metadata": {},
      "source": [
        "We can also show the filter in action in 3D, by creating\na grid of dummy atoms corresponding to the mesh\npoints, and colored according to the function\nvalue. Use the `chemiscope` option panel to\nswitch between the sharp input and the filtered\nvalues.\n\n"
      ]
    },
    {
      "cell_type": "code",
      "execution_count": null,
      "metadata": {
        "collapsed": false
      },
      "outputs": [],
      "source": [
        "dummy = ase.Atoms(\n    positions=xyz_mesh.reshape(-1, 3),\n    symbols=\"H\" * len(xyz_mesh.reshape(-1, 3)),\n    cell=cell,\n)\nchemiscope.show(\n    frames=[dummy],\n    properties={\n        \"input value\": {\n            \"target\": \"atom\",\n            \"values\": mesh_value.detach().numpy().flatten(),\n        },\n        \"filtered value\": {\n            \"target\": \"atom\",\n            \"values\": mesh_filtered.detach().numpy().flatten(),\n        },\n    },\n    mode=\"structure\",\n    settings=chemiscope.quick_settings(\n        structure_settings={\n            \"unitCell\": True,\n            \"bonds\": False,\n            \"environments\": {\"activated\": False},\n            \"color\": {\n                \"property\": \"input value\",\n                \"transform\": \"linear\",\n                \"palette\": \"viridis\",\n            },\n        }\n    ),\n    environments=chemiscope.all_atomic_environments([dummy]),\n)"
      ]
    },
    {
      "cell_type": "markdown",
      "metadata": {},
      "source": [
        "## Adjustable and multi-channel filters\n\n:class:`KSpaceFilter <lib.KSpaceFilter>` can also be applied for more complicated\nuse cases. For instance, one can apply multiple filters to multiple real-space mesh\nchannels, and use a :class:`torch.nn.Module`-derived class to define an adjustable\nkernel.\n\n"
      ]
    },
    {
      "cell_type": "markdown",
      "metadata": {},
      "source": [
        "We initialize a three-channel mesh, with identical\npatterns along the three Cartesian directions\n\n"
      ]
    },
    {
      "cell_type": "code",
      "execution_count": null,
      "metadata": {
        "collapsed": false
      },
      "outputs": [],
      "source": [
        "multi_mesh = torch.stack(\n    [\n        np.exp(-4 * ((cell[0, 0] / 2 - xyz_mesh) ** 2)[..., :2].sum(axis=-1)),\n        np.exp(-4 * ((cell[0, 0] / 2 - xyz_mesh) ** 2)[..., [0, 2]].sum(axis=-1)),\n        np.exp(-4 * ((cell[0, 0] / 2 - xyz_mesh) ** 2)[..., 1:].sum(axis=-1)),\n    ]\n)"
      ]
    },
    {
      "cell_type": "markdown",
      "metadata": {},
      "source": [
        "We also define a filter with three smearing parameters, corresponding to\nthree channels\n\n"
      ]
    },
    {
      "cell_type": "code",
      "execution_count": null,
      "metadata": {
        "collapsed": false
      },
      "outputs": [],
      "source": [
        "class MultiKernel(torchpme.lib.KSpaceKernel):\n    def __init__(self, sigma: torch.Tensor):\n        super().__init__()\n        self._sigma = sigma\n\n    def kernel_from_k_sq(self, k_sq):\n        return torch.stack([torch.exp(-k_sq * s**2 / 2) for s in self._sigma])"
      ]
    },
    {
      "cell_type": "markdown",
      "metadata": {},
      "source": [
        "This can be used just as a simple filter\n\n"
      ]
    },
    {
      "cell_type": "code",
      "execution_count": null,
      "metadata": {
        "collapsed": false
      },
      "outputs": [],
      "source": [
        "multi_kernel = MultiKernel(torch.tensor([0.25, 0.5, 1.0], dtype=dtype, device=device))\nmulti_kernel_filter = torchpme.lib.KSpaceFilter(cell, ns_mesh, kernel=multi_kernel)\nmulti_filtered = multi_kernel_filter.forward(multi_mesh)"
      ]
    },
    {
      "cell_type": "markdown",
      "metadata": {},
      "source": [
        "When the parameters of the kernel or the ``cell`` are modified, one has to call\n:func:`KSpaceFilter.update` before applying the filter\n\n"
      ]
    },
    {
      "cell_type": "code",
      "execution_count": null,
      "metadata": {
        "collapsed": false
      },
      "outputs": [],
      "source": [
        "multi_kernel._sigma = torch.tensor([1.0, 0.5, 0.25])\nmulti_kernel_filter.update(cell)\nmulti_filtered_2 = multi_kernel_filter.forward(multi_mesh)"
      ]
    },
    {
      "cell_type": "markdown",
      "metadata": {},
      "source": [
        "### Visualize the application of the filters\nThe first colum shows the input function (the\nthree channels contain the same function as in\nthe previous example, but with different orientations,\nwhich explains the different appearence when sliced\nalong the $xy$ plane).\n\nThe second and third columns show the same three\nchannels with the Gaussian smearings defined above.\n\n"
      ]
    },
    {
      "cell_type": "code",
      "execution_count": null,
      "metadata": {
        "collapsed": false
      },
      "outputs": [],
      "source": [
        "fig, ax = plt.subplots(\n    3, 3, figsize=(9, 9), sharey=True, sharex=True, constrained_layout=True\n)\n\n# reuse the same mesh_extent given the mesh is cubic\nmesh_extent = [\n    0,\n    cell[0, 0],\n    0,\n    cell[1, 1],\n]\n\nz_min, z_max = (mesh_value.flatten().min(), mesh_value.flatten().max())\ncfs = []\nfor j, mesh_value in enumerate([multi_mesh, multi_filtered, multi_filtered_2]):\n    for i in range(3):\n        z_plot = mesh_value[i, :, :, 4].detach().numpy()\n        z_plot = np.vstack([z_plot, z_plot[0, :]])  # Add first row at the bottom\n        z_plot = np.hstack(\n            [z_plot, z_plot[:, 0].reshape(-1, 1)]\n        )  # Add first column at the right\n\n        cf = ax[i, j].imshow(\n            z_plot,\n            extent=mesh_extent,\n            vmin=z_min,\n            vmax=z_max,\n            origin=\"lower\",\n            interpolation=\"bilinear\",\n        )\n        cfs.append(cf)\n    ax[j, 0].set_ylabel(\"y / \u00c5\")\n    ax[2, j].set_xlabel(\"x / \u00c5\")\n\nax[0, 0].set_title(\"input values\")\nax[0, 1].set_title(\"filter 1\")\nax[0, 2].set_title(\"filter 2\")\ncbar_ax = fig.add_axes(\n    [1.0, 0.2, 0.03, 0.6]\n)  # [left, bottom, width, height] in figure coordinates\n# Add the colorbar to the new axes\nfig.colorbar(cfs[0], cax=cbar_ax, orientation=\"vertical\")"
      ]
    },
    {
      "cell_type": "markdown",
      "metadata": {},
      "source": [
        "### Jit-ting of the k-space filter\nThe k-space filter can also be compiled to torch-script, for\nfaster execution (the impact is marginal for this very simple case)\n\n"
      ]
    },
    {
      "cell_type": "code",
      "execution_count": null,
      "metadata": {
        "collapsed": false
      },
      "outputs": [],
      "source": [
        "multi_filtered = multi_kernel_filter.forward(multi_mesh)\nstart = time()\nfor _i in range(100):\n    multi_filtered = multi_kernel_filter.forward(multi_mesh)\ntime_python = (time() - start) * 1e6 / 100\n\njitted_kernel_filter = torch.jit.script(multi_kernel_filter)\njit_filtered = jitted_kernel_filter.forward(multi_mesh)\nstart = time()\nfor _i in range(100):\n    jit_filtered = jitted_kernel_filter.forward(multi_mesh)\ntime_jit = (time() - start) * 1e6 / 100\n\nprint(f\"Evaluation time:\\nPytorch: {time_python}\u00b5s\\nJitted:  {time_jit}\u00b5s\")"
      ]
    }
  ],
  "metadata": {
    "kernelspec": {
      "display_name": "Python 3",
      "language": "python",
      "name": "python3"
    },
    "language_info": {
      "codemirror_mode": {
        "name": "ipython",
        "version": 3
      },
      "file_extension": ".py",
      "mimetype": "text/x-python",
      "name": "python",
      "nbconvert_exporter": "python",
      "pygments_lexer": "ipython3",
      "version": "3.13.3"
    }
  },
  "nbformat": 4,
  "nbformat_minor": 0
}