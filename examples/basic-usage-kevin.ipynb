{
 "cells": [
  {
   "cell_type": "code",
   "execution_count": 1,
   "metadata": {},
   "outputs": [
    {
     "data": {
      "text/plain": [
       "'\\n.. _example-usage:\\n\\nSimple Step-By-Step Example on How to do ML with torchpme\\n=========================================================\\n\\n.. currentmodule:: torchpme\\n\\nThis example showcases how the main capabilities of ``torchpme``\\n\\n'"
      ]
     },
     "execution_count": 1,
     "metadata": {},
     "output_type": "execute_result"
    }
   ],
   "source": [
    "\"\"\"\n",
    ".. _example-usage:\n",
    "\n",
    "Simple Step-By-Step Example on How to do ML with torchpme\n",
    "=========================================================\n",
    "\n",
    ".. currentmodule:: torchpme\n",
    "\n",
    "This example showcases how the main capabilities of ``torchpme``\n",
    "\n",
    "\"\"\"\n"
   ]
  },
  {
   "cell_type": "code",
   "execution_count": 2,
   "metadata": {},
   "outputs": [],
   "source": [
    "import numpy as np\n",
    "from ase import Atoms\n",
    "import chemiscope\n",
    "import torch\n",
    "from vesin.torch import NeighborList\n",
    "\n",
    "from torchpme import EwaldCalculator\n",
    "from torchpme.potentials import CoulombPotential\n"
   ]
  },
  {
   "cell_type": "markdown",
   "metadata": {},
   "source": [
    "# "
   ]
  },
  {
   "cell_type": "markdown",
   "metadata": {},
   "source": [
    "# Generate Simple Example Structures\n",
    "Throughout this tutorial, we will work with a simple atomic structure in three dimensions, which is a distorted version of the CsCl structure."
   ]
  },
  {
   "cell_type": "code",
   "execution_count": 3,
   "metadata": {},
   "outputs": [],
   "source": [
    "device = 'cpu' # alternatively: 'gpu'\n",
    "dtype = torch.float64 # our neighbor list calculator requires torch.float64"
   ]
  },
  {
   "cell_type": "code",
   "execution_count": 4,
   "metadata": {},
   "outputs": [
    {
     "name": "stderr",
     "output_type": "stream",
     "text": [
      "/tmp/ipykernel_1938614/4073243837.py:13: UserWarning: Creating a tensor from a list of numpy.ndarrays is extremely slow. Please consider converting the list to a single numpy.ndarray with numpy.array() before converting to a tensor. (Triggered internally at ../torch/csrc/utils/tensor_new.cpp:278.)\n",
      "  cell = torch.tensor(structure_big.cell, dtype=dtype, device=device)\n"
     ]
    }
   ],
   "source": [
    "# Generate a single unit cell of CsCl (2 atoms in the cell)\n",
    "structure_single = Atoms('CsCl', cell=np.eye(3), positions=[[0,0,0],[0.5,0.5,0.5]])\n",
    "\n",
    "# Generate a big structure by periodically repeating the unit cell and apply a random\n",
    "# distortion to all atoms\n",
    "structure_big = structure_single.repeat(3)\n",
    "structure_big.rattle(stdev=0.01)\n",
    "structure_big.wrap() # make sure all atoms are in the unit cell\n",
    "\n",
    "# Get the required variables for later use and define the charges for each atom:\n",
    "# all Cs atoms get a charge of +1, all Cl atoms a charge of -1\n",
    "positions = torch.tensor(structure_big.positions, dtype=dtype, device=device, requires_grad=True)\n",
    "cell = torch.tensor(structure_big.cell, dtype=dtype, device=device)\n",
    "num_atoms = len(positions)\n",
    "charges = torch.ones((num_atoms,1), dtype=dtype, device=device)\n",
    "charges[::2] *= -1"
   ]
  },
  {
   "cell_type": "code",
   "execution_count": 5,
   "metadata": {},
   "outputs": [],
   "source": [
    "# Visualize structure\n",
    "# chemiscope.show(structure_big, meta=dict(name=\"CsCl structure\"))"
   ]
  },
  {
   "cell_type": "markdown",
   "metadata": {},
   "source": [
    "# Tuning: Find Optimal Hyperparameters\n",
    "Ewald and mesh methods require the specification of multiple hyperparameters, namely\n",
    "1. the cutoff radius $r_\\mathrm{cut}$ for the short-range parts\n",
    "2. the smearing parameter $\\sigma$ determining the relative importance of the short-range and long-range terms in the split\n",
    "3. either the mesh spacing $h$ for mesh-based methods, or a reciprocal space cutoff $k_\\mathrm{cut} = 2\\pi/\\lambda$ for the Ewald sum, where $\\lambda$ is the shortest wavelength used in the Fourier series and corresponds to $h$ for mesh-based approaches\n",
    "\n",
    "For ML applications, we typically first select a short-range cutoff similarly to conventional short-ranged ML models, and define the remaining parameters from there. In this example, we are simply computing the Coulomb potential, and thus compute the hyperparameters simply based on convergence criteria."
   ]
  },
  {
   "cell_type": "code",
   "execution_count": 6,
   "metadata": {},
   "outputs": [],
   "source": [
    "box_length = cell[0,0]\n",
    "rcut = box_length.clone().detach() / 2 - 1e-10\n",
    "smearing = rcut / 5\n",
    "lr_wavelength = smearing / 2 # lambda which gives the reciprocal space cutoff kcut=2*pi/lambda"
   ]
  },
  {
   "cell_type": "markdown",
   "metadata": {},
   "source": [
    "# Define Potential\n",
    "We now need to define the potential function with which the atoms interact. Since this is a library for long-range ML, we support three major options:\n",
    "1. the Coulomb potential ($1/r$)\n",
    "2. more general inverse power-law potentials ($1/r^p$)\n",
    "3. an option to build custom potentials using splines\n",
    "\n",
    "This tutorial focuses on option (1), which is the most relevant from a practical point of view. We can simply initialize an instance of the `CoulombPotential` class that contains all the necessary functions (such as those defining the short-range and long-range splits) for this potential and makes them useable in the rest of the code."
   ]
  },
  {
   "cell_type": "code",
   "execution_count": 7,
   "metadata": {},
   "outputs": [
    {
     "name": "stderr",
     "output_type": "stream",
     "text": [
      "/home/khugueni/code/torch-pme/src/torchpme/potentials/potential.py:51: UserWarning: To copy construct from a tensor, it is recommended to use sourceTensor.clone().detach() or sourceTensor.clone().detach().requires_grad_(True), rather than torch.tensor(sourceTensor).\n",
      "  \"smearing\", torch.tensor(smearing, device=device, dtype=dtype)\n"
     ]
    }
   ],
   "source": [
    "potential = CoulombPotential(smearing = smearing)"
   ]
  },
  {
   "cell_type": "markdown",
   "metadata": {},
   "source": [
    "# "
   ]
  },
  {
   "cell_type": "markdown",
   "metadata": {},
   "source": [
    "# Neighbor List\n",
    "`torchpme` requires us to compute the neighbor list (NL) in advance. This is because for many ML applications, we would otherwise need to repeat this computation multiple times during model training of a neural network etc. By computing it externally and providing it as an input, we can streamline training workflows.\n",
    "\n",
    "Note that we are not directly returning the distances themselves, but rather the 'neighbor shifts' as is indicated by the quantity 'S'. This is because we are typically still interested in taking gradients with respect to the atomic positions. An exact definition can be found in the `vesin` documentation.\n"
   ]
  },
  {
   "cell_type": "code",
   "execution_count": null,
   "metadata": {},
   "outputs": [],
   "source": [
    "nl = NeighborList(cutoff=rcut, full_list=False)\n",
    "i, j, neighbor_distances = nl.compute(points=positions, box=cell, periodic=True, quantities=\"ijd\")\n",
    "neighbor_indices = torch.stack([i, j], dim=1)"
   ]
  },
  {
   "cell_type": "markdown",
   "metadata": {},
   "source": [
    "# Main Part: Calculator\n",
    "The `Calculator` classes are the main user-facing classes in `torchpme`. These are used to compute atomic potentials $V_i$ for a given set of positions and particle weights (charges). For periodic calculators that are the main focus of this tutorial, it is also required to specify a `cell`."
   ]
  },
  {
   "cell_type": "code",
   "execution_count": 9,
   "metadata": {},
   "outputs": [],
   "source": [
    "# Initialization\n",
    "calculator = EwaldCalculator(potential=potential, lr_wavelength=lr_wavelength)"
   ]
  },
  {
   "cell_type": "markdown",
   "metadata": {},
   "source": [
    "# Compute Energy\n",
    "We have now all ingredients: we can use the `Calculator` class to, well, actually compute the potentials $V_i$ at the position of the atoms, or the total energy for the given particle weights (charges). The electrostatic potential can then be obtained as\n",
    "\\begin{align}\n",
    "E = \\sum_{i=1}^N q_i V_i\n",
    "\\end{align}"
   ]
  },
  {
   "cell_type": "code",
   "execution_count": 10,
   "metadata": {},
   "outputs": [],
   "source": [
    "potentials = calculator.forward(charges, cell, positions, neighbor_indices, neighbor_distances)\n",
    "energy = torch.sum(charges * potentials)"
   ]
  },
  {
   "cell_type": "markdown",
   "metadata": {},
   "source": [
    "# Compute Forces using backpropagation (automatic differentiation)"
   ]
  },
  {
   "cell_type": "markdown",
   "metadata": {},
   "source": [
    "The forces on the particles can simply be obtained as minus the gradient of the energy with respect to the positions. These are easy to evaluate using the automatic differentiation capabilities of `pytorch` using the backpropagation method."
   ]
  },
  {
   "cell_type": "code",
   "execution_count": 11,
   "metadata": {},
   "outputs": [],
   "source": [
    "energy.backward()\n",
    "forces = -positions.grad # forces on the particles"
   ]
  },
  {
   "cell_type": "markdown",
   "metadata": {},
   "source": [
    "# Aperiodic Structures\n",
    "For now, we have been using the `EwaldCalculator` which is a periodic calculator. We can however also use it for aperiodic structures by just using it as a calculator with a cutoff radius."
   ]
  },
  {
   "cell_type": "code",
   "execution_count": 12,
   "metadata": {},
   "outputs": [],
   "source": [
    "# Clone the positions to avoid accumulating gradients with respect to the same\n",
    "# variables multiple times\n",
    "positions_aperiodic = positions.clone().detach()\n",
    "positions_aperiodic.requires_grad = True\n",
    "\n",
    "# Compute neighbor list but this time without periodic boudary conditions\n",
    "i, j, neighbor_distances_aperiodic = nl.compute(points=positions_aperiodic, box=cell, periodic=True, quantities=\"ijd\")\n",
    "neighbor_indices_aperiodic = torch.stack([i, j], dim=1)\n",
    "\n",
    "# Compute aperiodic potential\n",
    "potentials_aperiodic = calculator._compute_rspace(charges,\n",
    "                                                  neighbor_indices_aperiodic,\n",
    "                                                  neighbor_distances_aperiodic)\n",
    "\n",
    "# Compute total energy and forces\n",
    "energy_aperiodic = torch.sum(charges * potentials_aperiodic)\n",
    "energy_aperiodic.backward()\n",
    "forces_aperiodic = positions_aperiodic.grad # forces on the particles"
   ]
  },
  {
   "cell_type": "markdown",
   "metadata": {},
   "source": [
    "# References to more advanced tasks"
   ]
  },
  {
   "cell_type": "markdown",
   "metadata": {},
   "source": []
  }
 ],
 "metadata": {
  "kernelspec": {
   "display_name": ".venv",
   "language": "python",
   "name": "python3"
  },
  "language_info": {
   "codemirror_mode": {
    "name": "ipython",
    "version": 3
   },
   "file_extension": ".py",
   "mimetype": "text/x-python",
   "name": "python",
   "nbconvert_exporter": "python",
   "pygments_lexer": "ipython3",
   "version": "3.12.3"
  }
 },
 "nbformat": 4,
 "nbformat_minor": 2
}
