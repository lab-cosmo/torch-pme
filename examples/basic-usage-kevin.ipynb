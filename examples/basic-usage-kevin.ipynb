{
 "cells": [
  {
   "cell_type": "code",
   "execution_count": null,
   "metadata": {},
   "outputs": [],
   "source": [
    "\"\"\"\n",
    ".. _example-usage:\n",
    "\n",
    "Simple Step-By-Step Example on How to do ML with torchpme\n",
    "=========================================================\n",
    "\n",
    ".. currentmodule:: torchpme\n",
    "\n",
    "This example showcases how the main capabilities of ``torchpme``\n",
    "\n",
    "\"\"\"\n"
   ]
  },
  {
   "cell_type": "code",
   "execution_count": 3,
   "metadata": {},
   "outputs": [],
   "source": [
    "import numpy as np\n",
    "import ase.io\n",
    "import chemiscope\n",
    "from ase import Atoms\n",
    "import matplotlib.pyplot as plt\n",
    "import torch\n",
    "from vesin.torch import NeighborList\n",
    "\n",
    "from torchpme import CombinedPotential, EwaldCalculator, InversePowerLawPotential\n",
    "from torchpme.utils.prefactors import eV_A\n",
    "from torchpme.potentials import CoulombPotential\n"
   ]
  },
  {
   "cell_type": "markdown",
   "metadata": {},
   "source": [
    "# "
   ]
  },
  {
   "cell_type": "markdown",
   "metadata": {},
   "source": [
    "# Generate Simple Example Structures\n",
    "Throughout this tutorial, we will work with a simple atomic structure in three dimensions, which is a distorted version of the CsCl structure."
   ]
  },
  {
   "cell_type": "code",
   "execution_count": null,
   "metadata": {},
   "outputs": [],
   "source": [
    "# Generate a single unit cell of CsCl (2 atoms in the cell)\n",
    "structure_single = Atoms('CsCl', cell=np.eye(3), positions=[[0,0,0],[0.5,0.5,0.5]])\n",
    "\n",
    "# Generate a big structure by periodically repeating the unit cell and apply a random\n",
    "# distortion to all atoms\n",
    "structure_big = structure_single.repeat(3)\n",
    "structure_big.rattle(stdev=0.01)\n",
    "structure_big.wrap() # make sure all atoms are in the unit cell\n",
    "\n",
    "# Get the required variables for later use and define the charges for each atom:\n",
    "# all Cs atoms get a charge of +1, all Cl atoms a charge of -1\n",
    "positions = torch.tensor(structure_big.positions)\n",
    "cell = torch.tensor(structure_big.cell)\n",
    "num_atoms = len(positions)\n",
    "charges = torch.ones((num_atoms,))\n",
    "charges[::2] *= -1"
   ]
  },
  {
   "cell_type": "markdown",
   "metadata": {},
   "source": [
    "# Define Potential\n",
    "We now need to define the potential function with which the atoms interact. Since this is a library for long-range ML, we support three major options:\n",
    "1. the Coulomb potential ($1/r$)\n",
    "2. more general inverse power-law potentials ($1/r^p$)\n",
    "3. an option to build custom potentials using splines\n",
    "\n",
    "This tutorial focuses on option (1), which is the most relevant from a practical point of view. We can simply initialize an instance of the `CoulombPotential` class that contains all the necessary functions (such as those defining the short-range and long-range splits) for this potential and makes them useable in the rest of the code."
   ]
  },
  {
   "cell_type": "code",
   "execution_count": 2,
   "metadata": {},
   "outputs": [],
   "source": [
    "potential = CoulombPotential()"
   ]
  },
  {
   "cell_type": "markdown",
   "metadata": {},
   "source": [
    "# Tuning: Find Optimal Hyperparameters\n",
    "Ewald and mesh methods require the specification of multiple hyperparameters, which are...for non-experts: provide this functionality"
   ]
  },
  {
   "cell_type": "code",
   "execution_count": 25,
   "metadata": {},
   "outputs": [
    {
     "data": {
      "text/plain": [
       "Ellipsis"
      ]
     },
     "execution_count": 25,
     "metadata": {},
     "output_type": "execute_result"
    }
   ],
   "source": [
    "..."
   ]
  },
  {
   "cell_type": "markdown",
   "metadata": {},
   "source": [
    "# "
   ]
  },
  {
   "cell_type": "markdown",
   "metadata": {},
   "source": [
    "# Neighbor List\n",
    "do not want to compute NL multiple times during training (+ additional subtleties for differentiation) --> compute neighbor list in advance"
   ]
  },
  {
   "cell_type": "code",
   "execution_count": 26,
   "metadata": {},
   "outputs": [
    {
     "data": {
      "text/plain": [
       "Ellipsis"
      ]
     },
     "execution_count": 26,
     "metadata": {},
     "output_type": "execute_result"
    }
   ],
   "source": [
    "..."
   ]
  },
  {
   "cell_type": "markdown",
   "metadata": {},
   "source": [
    "# Initialize Calculator\n",
    "explain inputs for both Ewald (for small structures) and P3M (for large structures)"
   ]
  },
  {
   "cell_type": "code",
   "execution_count": 27,
   "metadata": {},
   "outputs": [
    {
     "data": {
      "text/plain": [
       "Ellipsis"
      ]
     },
     "execution_count": 27,
     "metadata": {},
     "output_type": "execute_result"
    }
   ],
   "source": [
    "..."
   ]
  },
  {
   "cell_type": "markdown",
   "metadata": {},
   "source": [
    "# Compute Energy"
   ]
  },
  {
   "cell_type": "code",
   "execution_count": 28,
   "metadata": {},
   "outputs": [
    {
     "data": {
      "text/plain": [
       "Ellipsis"
      ]
     },
     "execution_count": 28,
     "metadata": {},
     "output_type": "execute_result"
    }
   ],
   "source": [
    "..."
   ]
  },
  {
   "cell_type": "markdown",
   "metadata": {},
   "source": [
    "# Compute Forces using backpropagation (automatic differentiation)"
   ]
  },
  {
   "cell_type": "code",
   "execution_count": 29,
   "metadata": {},
   "outputs": [
    {
     "data": {
      "text/plain": [
       "Ellipsis"
      ]
     },
     "execution_count": 29,
     "metadata": {},
     "output_type": "execute_result"
    }
   ],
   "source": [
    "..."
   ]
  },
  {
   "cell_type": "markdown",
   "metadata": {},
   "source": [
    "# Aperiodic Structures"
   ]
  },
  {
   "cell_type": "code",
   "execution_count": 30,
   "metadata": {},
   "outputs": [
    {
     "data": {
      "text/plain": [
       "Ellipsis"
      ]
     },
     "execution_count": 30,
     "metadata": {},
     "output_type": "execute_result"
    }
   ],
   "source": [
    "..."
   ]
  },
  {
   "cell_type": "markdown",
   "metadata": {},
   "source": [
    "# References to more advanced tasks"
   ]
  },
  {
   "cell_type": "markdown",
   "metadata": {},
   "source": []
  }
 ],
 "metadata": {
  "kernelspec": {
   "display_name": ".venv",
   "language": "python",
   "name": "python3"
  },
  "language_info": {
   "codemirror_mode": {
    "name": "ipython",
    "version": 3
   },
   "file_extension": ".py",
   "mimetype": "text/x-python",
   "name": "python",
   "nbconvert_exporter": "python",
   "pygments_lexer": "ipython3",
   "version": "3.12.3"
  }
 },
 "nbformat": 4,
 "nbformat_minor": 2
}
