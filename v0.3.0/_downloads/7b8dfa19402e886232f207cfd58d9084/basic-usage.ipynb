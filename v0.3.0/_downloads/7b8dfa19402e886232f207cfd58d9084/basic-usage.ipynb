{
  "cells": [
    {
      "cell_type": "markdown",
      "metadata": {},
      "source": [
        "\n# Basic Usage\n\n.. currentmodule:: torchpme\n\nThis example showcases how the main capabilities of ``torchpme``.\nWe build a simple ionic crystal and compute the electrostatic potential and the forces\nfor each atom.\n\nTo follow this tutorial, it is assumed that torch-pme has been `installed\n<userdoc-installation>` on your computer.\n\n<div class=\"alert alert-info\"><h4>Note</h4><p>Inside this tutorial and all other examples of the documentation you can click on\n    each object in a code block to be forwarded to the documentation of the class or\n    function to get further details.</p></div>\n"
      ]
    },
    {
      "cell_type": "code",
      "execution_count": null,
      "metadata": {
        "collapsed": false
      },
      "outputs": [],
      "source": [
        "import chemiscope\nimport torch\nfrom ase import Atoms\nfrom vesin.torch import NeighborList\n\nfrom torchpme import EwaldCalculator\nfrom torchpme.potentials import CoulombPotential"
      ]
    },
    {
      "cell_type": "markdown",
      "metadata": {},
      "source": [
        "We initially set the ``device`` and ``dtype`` for the calculations. We will use the\nCPU for this and double precision. If you have a CUDA devide you can also set the\ndevice to ``\"cuda\"`` to use the GPU and speed up the calculations. Double precision is\na requirement for the neighbor list implementation that we are using here.\n\n"
      ]
    },
    {
      "cell_type": "code",
      "execution_count": null,
      "metadata": {
        "collapsed": false
      },
      "outputs": [],
      "source": [
        "device = \"cpu\"\ndtype = torch.float64"
      ]
    },
    {
      "cell_type": "markdown",
      "metadata": {},
      "source": [
        "## Generate Simple Example Structures\n\nThroughout this tutorial, we will work with a simple atomic structure in three\ndimensions, which is a distorted version of the CsCl structure. The goal will be to\ncompute the electrostatic potentials and the forces for each atom.\n\nWe first generate a single unit cell of CsCl (2 atoms in the cell) where the Cs atoms\nget a charge of +1 and the Cl atom a charge of -1.\n\n"
      ]
    },
    {
      "cell_type": "code",
      "execution_count": null,
      "metadata": {
        "collapsed": false
      },
      "outputs": [],
      "source": [
        "atoms_unitcell = Atoms(\n    \"CsCl\", cell=torch.eye(3), positions=[[0, 0, 0], [0.5, 0.5, 0.5]]\n)\natoms_unitcell.set_initial_charges([1, -1])"
      ]
    },
    {
      "cell_type": "markdown",
      "metadata": {},
      "source": [
        "We next generate a bigger structure by periodically repeating the unit cell 3 times in\neach direction and apply a small random distortion to all atoms.\n\n"
      ]
    },
    {
      "cell_type": "code",
      "execution_count": null,
      "metadata": {
        "collapsed": false
      },
      "outputs": [],
      "source": [
        "atoms = atoms_unitcell.repeat(3)\natoms.rattle(stdev=0.01)\natoms.wrap()  # make sure all atoms are in the unit cell\n\nchemiscope.show(\n    frames=[atoms],\n    mode=\"structure\",\n    settings=chemiscope.quick_settings(structure_settings={\"unitCell\": True}),\n)"
      ]
    },
    {
      "cell_type": "markdown",
      "metadata": {},
      "source": [
        "We now extract the required properties from the :class:`ase.Atoms` object and store\nthem as individial variables as :class:`torch.Tensor`, which is the required input\ntype for *torch-pme*.\n\nFor the positions, we explicitly set `requires_grad=True`. This is because we are\nultimately interested in computing the forces, which are the gradients of the total\n(electrostatic) energy with respect to the positions (up to a minus sign).\n*torch-pme* can automatically compute such gradients, for which we need to communicate\nat this point that we will need to take gradients with respect to the positions in\nthe future.\n\n"
      ]
    },
    {
      "cell_type": "code",
      "execution_count": null,
      "metadata": {
        "collapsed": false
      },
      "outputs": [],
      "source": [
        "positions = torch.tensor(\n    atoms.positions, dtype=dtype, device=device, requires_grad=True\n)\ncell = torch.tensor(atoms.cell.array, dtype=dtype, device=device)\ncharges = torch.tensor(\n    atoms.get_initial_charges(), dtype=dtype, device=device\n).unsqueeze(1)"
      ]
    },
    {
      "cell_type": "markdown",
      "metadata": {},
      "source": [
        "## Tuning: Find Optimal Hyperparameters\n\nEwald and mesh methods require the specification of multiple hyperparameters, namely\n\n1. the cutoff radius $r_\\mathrm{cut}$` for the short-range parts\n2. the ``smearing`` parameter $\\sigma$ determining the relative importance of the\n   short-range and long-range terms in the split\n3. either the mesh spacing $h$ for mesh-based methods, or a reciprocal space\n   cutoff $k_\\mathrm{cut} = 2\\pi/\\lambda$` for the Ewald sum, where\n   $\\lambda$ is the shortest wavelength used in the Fourier series and\n   corresponds to $h$ for mesh-based approaches\n\nFor ML applications, we typically first select a short-range cutoff to be the same to\nconventional short-ranged ML models, and define the remaining parameters from there.\nIn this example, we are simply computing the Coulomb potential, and thus compute the\nhyperparameters simply based on convergence criteria.\n\n"
      ]
    },
    {
      "cell_type": "code",
      "execution_count": null,
      "metadata": {
        "collapsed": false
      },
      "outputs": [],
      "source": [
        "box_length = cell[0, 0]\nrcut = float(box_length) / 2 - 1e-10\nsmearing = rcut / 5\n# lambda which gives the reciprocal space cutoff kcut=2*pi/lambda\nlr_wavelength = smearing / 2"
      ]
    },
    {
      "cell_type": "markdown",
      "metadata": {},
      "source": [
        "However, especially for users without much experience on how to choose these\nhyperparameters, we have built-in tuning functions for each Calculator (see below)\nsuch as :func:`torchpme.tuning.tune_ewald`, which can automatically find a good set\nof parameters. These can be used like this:\n\n```python\nsum_charges_sq = torch.sum(charges**2, dim=0)\nsmearing, lr_wavelength, rcut = tune_ewald(sum_charges_sq, cell, positions, accuracy=1e-1)\n```\n## Define Potential\n\nWe now need to define the potential function with which the atoms interact. Since this\nis a library for long-range ML, we support three major options:\n\n1. the :class:`Coulomb potential <CoulombPotential>` ($1/r$)\n2. more general :class:`inverse power-law potentials <InversePowerLawPotential>` ($1/r^p$)\n3. an option to build custom potentials using :class:`splines <SplinePotential>`\n\nThis tutorial focuses on option (1), which is the most relevant from a practical point\nof view. We can simply initialize an instance of the :class:`CoulombPotential` class that\ncontains all the necessary functions (such as those defining the short-range and\nlong-range splits) for this potential and makes them useable in the rest of the code.\n\n"
      ]
    },
    {
      "cell_type": "code",
      "execution_count": null,
      "metadata": {
        "collapsed": false
      },
      "outputs": [],
      "source": [
        "potential = CoulombPotential(smearing=smearing)\npotential.to(device=device, dtype=dtype)"
      ]
    },
    {
      "cell_type": "markdown",
      "metadata": {},
      "source": [
        "## Neighbor List\n\n*torch-pme* requires us to compute the neighbor list (NL) in advance. This is because\nfor many ML applications, we would otherwise need to repeat this computation multiple\ntimes during model training of a neural network etc. By computing it externally and\nproviding it as an input, we can streamline training workflows.\nWe compute the neighbor list using the ``vesin`` package, which also provides a\npytorch implementation that retains the computational graph. This will later allow us\nto automatically compute gradients of the distances with respect to the atomic\ncoordinates. More details can be found in its documentation.\n\n"
      ]
    },
    {
      "cell_type": "code",
      "execution_count": null,
      "metadata": {
        "collapsed": false
      },
      "outputs": [],
      "source": [
        "nl = NeighborList(cutoff=rcut, full_list=False)\nneighbor_indices, neighbor_distances = nl.compute(\n    points=positions, box=cell, periodic=True, quantities=\"Pd\"\n)"
      ]
    },
    {
      "cell_type": "markdown",
      "metadata": {},
      "source": [
        "## Main Part: Calculator\n\nThe ``Calculator`` classes are the main user-facing classes in *torch-pme*. These are\nused to compute atomic potentials $V_i$` for a given set of positions and\nparticle weights (charges). For periodic calculators that are the main focus of this\ntutorial, it is also required to specify a ``cell``. We have three periodic\ncalculators:\n\n1. :class:`EwaldCalculator`: uses the Ewald sum. Recommended for structures with\n   $<10000$ atoms due to its high accuracy and simplicity. Should be avoided for\n   big structures due to the slower $\\mathcal{O}(N^2)$ to\n   $\\mathcal{O}(N^{\\frac{3}{2}})$ scaling of the computational cost (depending\n   on how the hyperparameters are chosen) with respect to the number of atoms.\n2. :class:`PMECalculator`: uses the Particle Mesh Ewald (PME) method. Mostly for\n   reference.\n3. :class:`P3MCalculator`: uses the Particle-Particle Particle-Mesh (P3M) method.\n   Recommended for structures $\\ge 10000$ atoms due to the efficient\n   $\\mathcal{O}(N\\log N)$ scaling of the computational cost with the number of\n   atoms.\n\nSince our structure is relatively small, we use the :class:`EwaldCalculator`.\nWe start by the initialization of the class.\n\n"
      ]
    },
    {
      "cell_type": "code",
      "execution_count": null,
      "metadata": {
        "collapsed": false
      },
      "outputs": [],
      "source": [
        "calculator = EwaldCalculator(potential=potential, lr_wavelength=lr_wavelength)\ncalculator.to(device=device, dtype=dtype)"
      ]
    },
    {
      "cell_type": "markdown",
      "metadata": {},
      "source": [
        "## Compute Energy\n\nWe have now all ingredients: we can use the ``Calculator`` class to, well, actually\ncompute the potentials $V_i$ at the position of the atoms, or the total energy\nfor the given particle weights (``charges``). The electrostatic potential can then be\nobtained as\n\n\\begin{align}E = \\sum_{i=1}^N q_i V_i\\end{align}\n\n"
      ]
    },
    {
      "cell_type": "code",
      "execution_count": null,
      "metadata": {
        "collapsed": false
      },
      "outputs": [],
      "source": [
        "potentials = calculator.forward(\n    charges, cell, positions, neighbor_indices, neighbor_distances\n)\nenergy = torch.sum(charges * potentials)\n\nprint(\"Energy = \\n\", energy.item())"
      ]
    },
    {
      "cell_type": "markdown",
      "metadata": {},
      "source": [
        ".. hint::\n\n  The energy is in Gaussian units. You can change the unit system by setting the\n  ``prefactor`` when initializing the calculator. For more details about this refer to\n  `prefactors`.\n\n## Compute Forces using backpropagation (automatic differentiation)\n\nThe forces on the particles can simply be obtained as minus the gradient of the energy\nwith respect to the positions. These are easy to evaluate using the automatic\ndifferentiation capabilities of [pytorch](https://pytorch.org/tutorials/beginner/basics/autogradqs_tutorial.html) using the\nbackpropagation method.\n\nNote that this only works since we set ``requires_grad=True`` when we initialized the\npositions tensor above.\n\n"
      ]
    },
    {
      "cell_type": "code",
      "execution_count": null,
      "metadata": {
        "collapsed": false
      },
      "outputs": [],
      "source": [
        "energy.backward()\nforces = -positions.grad\n\nprint(\"Force on first atom = \\n\", forces[0])"
      ]
    },
    {
      "cell_type": "markdown",
      "metadata": {},
      "source": [
        "## Aperiodic Structures\n\nFor now, we have been using the :class:`EwaldCalculator` which is a periodic\ncalculator. We can however also use it for aperiodic structures by just using it as a\ncalculator with a cutoff radius. To start clone the positions to avoid accumulating\ngradients with respect to the same variables multiple times\n\n"
      ]
    },
    {
      "cell_type": "code",
      "execution_count": null,
      "metadata": {
        "collapsed": false
      },
      "outputs": [],
      "source": [
        "positions_aperiodic = positions.clone().detach()\npositions_aperiodic.requires_grad = True"
      ]
    },
    {
      "cell_type": "markdown",
      "metadata": {},
      "source": [
        "Compute neighbor list but this time without periodic boudary conditions\n\n"
      ]
    },
    {
      "cell_type": "code",
      "execution_count": null,
      "metadata": {
        "collapsed": false
      },
      "outputs": [],
      "source": [
        "neighbor_indices_aperiodic, neighbor_distances_aperiodic = nl.compute(\n    points=positions_aperiodic, box=cell, periodic=False, quantities=\"Pd\"\n)"
      ]
    },
    {
      "cell_type": "markdown",
      "metadata": {},
      "source": [
        "Compute aperiodic potential using the dedicated subroutine that is present\nin all calculators. For now, we do not provide an explicit calculator for aperiodic\nsystems since the focus in mainly on periodic ones.\n\n"
      ]
    },
    {
      "cell_type": "code",
      "execution_count": null,
      "metadata": {
        "collapsed": false
      },
      "outputs": [],
      "source": [
        "potentials_aperiodic = calculator._compute_rspace(\n    charges, neighbor_indices_aperiodic, neighbor_distances_aperiodic\n)"
      ]
    },
    {
      "cell_type": "markdown",
      "metadata": {},
      "source": [
        "Compute total energy and forces\n\n"
      ]
    },
    {
      "cell_type": "code",
      "execution_count": null,
      "metadata": {
        "collapsed": false
      },
      "outputs": [],
      "source": [
        "energy_aperiodic = torch.sum(charges * potentials_aperiodic)\nenergy_aperiodic.backward()\nforces_aperiodic = positions_aperiodic.grad  # forces on the particles"
      ]
    },
    {
      "cell_type": "markdown",
      "metadata": {},
      "source": [
        "## References to more advanced tasks\n\nRefer to `examples <userdoc-how-to>` for tackling specific and advanced tasks and\nto the `references <userdoc-reference>` for more information the spefific API.\n\n"
      ]
    }
  ],
  "metadata": {
    "kernelspec": {
      "display_name": "Python 3",
      "language": "python",
      "name": "python3"
    },
    "language_info": {
      "codemirror_mode": {
        "name": "ipython",
        "version": 3
      },
      "file_extension": ".py",
      "mimetype": "text/x-python",
      "name": "python",
      "nbconvert_exporter": "python",
      "pygments_lexer": "ipython3",
      "version": "3.13.2"
    }
  },
  "nbformat": 4,
  "nbformat_minor": 0
}