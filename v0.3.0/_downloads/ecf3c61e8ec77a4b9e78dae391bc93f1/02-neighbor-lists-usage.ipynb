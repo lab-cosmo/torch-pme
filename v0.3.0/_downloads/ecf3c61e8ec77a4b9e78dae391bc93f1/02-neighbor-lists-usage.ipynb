{
  "cells": [
    {
      "cell_type": "markdown",
      "metadata": {},
      "source": [
        "\n# Advanced neighbor list usage\n\n.. currentmodule:: torchpme\n\nAccurately calculating forces as derivatives from energy is crucial for predicting\nsystem dynamics as well as in training machine learning models. In systems where forces\nare derived from the gradients of the potential energy, it is essential that the\ndistance calculations between particles are included in the computational graph. This\nensures that the force computations respect the dependencies between particle positions\nand distances, allowing for accurate gradients during backpropagation.\n\n.. figure:: ../../static/images/backprop-path.*\n\n    Visualization of the data flow to compute the energy from the ``cell``,\n    ``positions`` and ``charges`` through a neighborlist calculator and the potential\n    calculator. All operations on the red line have to be tracked to obtain the correct\n    computation of derivatives on the ``positions``.\n\nIn this tutorial, we demonstrate two methods for maintaining differentiability when\ncomputing distances between particles. The **first method** manually recomputes\n``distances`` within the computational graph using ``positions``, ``cell`` information,\nand neighbor shifts, making it suitable for any neighbor list code.\n\nThe **second method** uses a backpropagable neighbor list from the [vesin-torch](https://luthaf.fr/vesin) library, which automatically ensures that the distance\ncalculations remain differentiable.\n\n<div class=\"alert alert-info\"><h4>Note</h4><p>While both approaches yield the same result, a backpropagable neighbor list is\n    generally preferred because it eliminates the need to manually recompute distances.\n    This not only simplifies your code but also improves performance.</p></div>\n"
      ]
    },
    {
      "cell_type": "code",
      "execution_count": null,
      "metadata": {
        "collapsed": false
      },
      "outputs": [],
      "source": [
        "from typing import Optional\n\nimport ase\nimport chemiscope\nimport matplotlib.pyplot as plt\nimport numpy as np\nimport torch\nimport vesin\nimport vesin.torch\n\nimport torchpme\nfrom torchpme.tuning import tune_pme"
      ]
    },
    {
      "cell_type": "markdown",
      "metadata": {},
      "source": [
        "## The test system\n\nAs a test system, we use a 2x2x2 supercell of an CsCl crystal in a cubic cell.\n\n"
      ]
    },
    {
      "cell_type": "code",
      "execution_count": null,
      "metadata": {
        "collapsed": false
      },
      "outputs": [],
      "source": [
        "dtype = torch.float64\natoms_unitcell = ase.Atoms(\n    symbols=[\"Cs\", \"Cl\"],\n    positions=np.array([(0, 0, 0), (0.5, 0.5, 0.5)]),\n    cell=np.eye(3),\n    pbc=torch.tensor([True, True, True]),\n)\ncharges_unitcell = np.array([1.0, -1.0])\n\natoms = atoms_unitcell.repeat([2, 2, 2])\ncharges = np.tile(charges_unitcell, 2 * 2 * 2)"
      ]
    },
    {
      "cell_type": "markdown",
      "metadata": {},
      "source": [
        "We now slightly displace the atoms from their initial positions randomly based on a\nGaussian distribution with a width of 0.1 \u00c5 to create non-zero forces.\n\n"
      ]
    },
    {
      "cell_type": "code",
      "execution_count": null,
      "metadata": {
        "collapsed": false
      },
      "outputs": [],
      "source": [
        "atoms.rattle(stdev=0.1)\n\nchemiscope.show(\n    frames=[atoms],\n    mode=\"structure\",\n    settings=chemiscope.quick_settings(structure_settings={\"unitCell\": True}),\n)"
      ]
    },
    {
      "cell_type": "markdown",
      "metadata": {},
      "source": [
        "## Tune paramaters\n\nBased on our system we will first *tune* the PME parameters for an accurate\ncomputation. We first convert the ``positions``, ``charges`` and the ``cell`` from\nNumPy arrays into torch tensors and compute the summed squared charges.\n\n"
      ]
    },
    {
      "cell_type": "code",
      "execution_count": null,
      "metadata": {
        "collapsed": false
      },
      "outputs": [],
      "source": [
        "positions = torch.from_numpy(atoms.positions)\ncharges = torch.from_numpy(charges).unsqueeze(1)\ncell = torch.from_numpy(atoms.cell.array)\n\nsum_squared_charges = float(torch.sum(charges**2))\ncutoff = 4.4\nnl = vesin.torch.NeighborList(cutoff=cutoff, full_list=False)\nneighbor_indices, neighbor_distances = nl.compute(\n    points=positions.to(dtype=torch.float64, device=\"cpu\"),\n    box=cell.to(dtype=dtype, device=\"cpu\"),\n    periodic=True,\n    quantities=\"Pd\",\n)\n\nsmearing, pme_params, _ = tune_pme(\n    charges=charges,\n    cell=cell,\n    positions=positions,\n    cutoff=cutoff,\n    neighbor_indices=neighbor_indices,\n    neighbor_distances=neighbor_distances,\n)"
      ]
    },
    {
      "cell_type": "markdown",
      "metadata": {},
      "source": [
        "The tuning found the following best values for our system.\n\n"
      ]
    },
    {
      "cell_type": "code",
      "execution_count": null,
      "metadata": {
        "collapsed": false
      },
      "outputs": [],
      "source": [
        "print(\"smearing:\", smearing)\nprint(\"PME parameters:\", pme_params)\nprint(\"cutoff:\", cutoff)"
      ]
    },
    {
      "cell_type": "markdown",
      "metadata": {},
      "source": [
        "## Generic Neighborlist\n\nOne usual workflow is to compute the distance vectors using default tools like the\nthe default (NumPy) version of the vesin neighbor list.\n\n"
      ]
    },
    {
      "cell_type": "code",
      "execution_count": null,
      "metadata": {
        "collapsed": false
      },
      "outputs": [],
      "source": [
        "nl = vesin.NeighborList(cutoff=cutoff, full_list=False)\nneighbor_indices, S = nl.compute(\n    points=atoms.positions, box=atoms.cell.array, periodic=True, quantities=\"PS\"\n)"
      ]
    },
    {
      "cell_type": "markdown",
      "metadata": {},
      "source": [
        "We now define a function that (re-)computes the distances in a way that torch can\ntrack these operations.\n\n"
      ]
    },
    {
      "cell_type": "code",
      "execution_count": null,
      "metadata": {
        "collapsed": false
      },
      "outputs": [],
      "source": [
        "def distances(\n    positions: torch.Tensor,\n    neighbor_indices: torch.Tensor,\n    cell: Optional[torch.Tensor] = None,\n    neighbor_shifts: Optional[torch.Tensor] = None,\n) -> torch.Tensor:\n    \"\"\"Compute pairwise distances.\"\"\"\n    atom_is = neighbor_indices[:, 0]\n    atom_js = neighbor_indices[:, 1]\n\n    pos_is = positions[atom_is]\n    pos_js = positions[atom_js]\n\n    distance_vectors = pos_js - pos_is\n\n    if cell is not None and neighbor_shifts is not None:\n        shifts = neighbor_shifts.type(cell.dtype)\n        distance_vectors += shifts @ cell\n    elif cell is not None and neighbor_shifts is None:\n        raise ValueError(\"Provided `cell` but no `neighbor_shifts`.\")\n    elif cell is None and neighbor_shifts is not None:\n        raise ValueError(\"Provided `neighbor_shifts` but no `cell`.\")\n\n    return torch.linalg.norm(distance_vectors, dim=1)"
      ]
    },
    {
      "cell_type": "markdown",
      "metadata": {},
      "source": [
        "To use this function we now the tracking of operations by setting\nthe :attr:`requires_grad <torch.Tensor.requires_grad>` property to :obj:`True`.\n\n"
      ]
    },
    {
      "cell_type": "code",
      "execution_count": null,
      "metadata": {
        "collapsed": false
      },
      "outputs": [],
      "source": [
        "positions.requires_grad = True\n\nneighbor_indices = torch.from_numpy(neighbor_indices.astype(int))\nneighbor_shifts = torch.from_numpy(S)"
      ]
    },
    {
      "cell_type": "markdown",
      "metadata": {},
      "source": [
        "Now, we start to re-compute the distances\n\n"
      ]
    },
    {
      "cell_type": "code",
      "execution_count": null,
      "metadata": {
        "collapsed": false
      },
      "outputs": [],
      "source": [
        "neighbor_distances = distances(\n    positions=positions,\n    neighbor_indices=neighbor_indices,\n    cell=cell,\n    neighbor_shifts=neighbor_shifts,\n)"
      ]
    },
    {
      "cell_type": "markdown",
      "metadata": {},
      "source": [
        "and initialize a :class:`PMECalculator` instance using a :class:`CoulombPotential` to\ncompute the potential.\n\n"
      ]
    },
    {
      "cell_type": "code",
      "execution_count": null,
      "metadata": {
        "collapsed": false
      },
      "outputs": [],
      "source": [
        "pme = torchpme.PMECalculator(\n    potential=torchpme.CoulombPotential(smearing=smearing),\n    **pme_params,\n)\npotential = pme(\n    charges=charges,\n    cell=cell,\n    positions=positions,\n    neighbor_indices=neighbor_indices,\n    neighbor_distances=neighbor_distances,\n)\n\nprint(potential)"
      ]
    },
    {
      "cell_type": "markdown",
      "metadata": {},
      "source": [
        "The energy is given by the scalar product of the potential with the charges.\n\n"
      ]
    },
    {
      "cell_type": "code",
      "execution_count": null,
      "metadata": {
        "collapsed": false
      },
      "outputs": [],
      "source": [
        "energy = charges.T @ potential"
      ]
    },
    {
      "cell_type": "markdown",
      "metadata": {},
      "source": [
        "Finally, we can compute and print the forces in CGS units as erg/\u00c5.\n\n"
      ]
    },
    {
      "cell_type": "code",
      "execution_count": null,
      "metadata": {
        "collapsed": false
      },
      "outputs": [],
      "source": [
        "forces = torch.autograd.grad(-1.0 * energy, positions)[0]\n\nprint(forces)"
      ]
    },
    {
      "cell_type": "markdown",
      "metadata": {},
      "source": [
        "## Backpropagable Neighborlist\n\nWe now repeat the computation of the forces, but instead of using a generic neighbor\nlist and our custom ``distances`` function, we directly use a neighbor list function\nthat tracks the operations, as implemented by the ``vesin-torch`` library.\n\nWe first ``detach`` and ``clone`` the position tensor to create a new computational\ngraph\n\n"
      ]
    },
    {
      "cell_type": "code",
      "execution_count": null,
      "metadata": {
        "collapsed": false
      },
      "outputs": [],
      "source": [
        "positions_new = positions.detach().clone()\npositions_new.requires_grad = True"
      ]
    },
    {
      "cell_type": "markdown",
      "metadata": {},
      "source": [
        "and create new distances in a similar manner as above.\n\n"
      ]
    },
    {
      "cell_type": "code",
      "execution_count": null,
      "metadata": {
        "collapsed": false
      },
      "outputs": [],
      "source": [
        "nl = vesin.torch.NeighborList(cutoff=cutoff, full_list=False)\nneighbor_indices_new, d = nl.compute(\n    points=positions_new, box=cell, periodic=True, quantities=\"Pd\"\n)"
      ]
    },
    {
      "cell_type": "markdown",
      "metadata": {},
      "source": [
        "Following the same steps as above, we compute the forces.\n\n"
      ]
    },
    {
      "cell_type": "code",
      "execution_count": null,
      "metadata": {
        "collapsed": false
      },
      "outputs": [],
      "source": [
        "potential_new = pme(\n    charges=charges,\n    cell=cell,\n    positions=positions_new,\n    neighbor_indices=neighbor_indices_new,\n    neighbor_distances=d,\n)\n\nenergy_new = charges.T @ potential_new\n\nforces_new = torch.autograd.grad(-1.0 * energy_new, positions_new)[0]\n\nprint(forces_new)"
      ]
    },
    {
      "cell_type": "markdown",
      "metadata": {},
      "source": [
        "The forces are the same as those we printed above. For better comparison, we can also\nplot the scalar force for each method.\n\n"
      ]
    },
    {
      "cell_type": "code",
      "execution_count": null,
      "metadata": {
        "collapsed": false
      },
      "outputs": [],
      "source": [
        "plt.plot(torch.linalg.norm(forces, dim=1), \"o-\", label=\"normal Neighborlist\")\nplt.plot(torch.linalg.norm(forces_new, dim=1), \".-\", label=\"torch Neighborlist\")\nplt.legend()\n\nplt.xlabel(\"atom index\")\nplt.ylabel(r\"$|F|~/~\\mathrm{erg\\,\u00c5^{-1}}$\")\n\nplt.show()"
      ]
    }
  ],
  "metadata": {
    "kernelspec": {
      "display_name": "Python 3",
      "language": "python",
      "name": "python3"
    },
    "language_info": {
      "codemirror_mode": {
        "name": "ipython",
        "version": 3
      },
      "file_extension": ".py",
      "mimetype": "text/x-python",
      "name": "python",
      "nbconvert_exporter": "python",
      "pygments_lexer": "ipython3",
      "version": "3.13.2"
    }
  },
  "nbformat": 4,
  "nbformat_minor": 0
}