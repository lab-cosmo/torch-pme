{
  "cells": [
    {
      "cell_type": "markdown",
      "metadata": {},
      "source": [
        "\n\n# Examples of the ``MeshInterpolator`` class\n\n.. currentmodule:: torchpme\n\n:Authors: Michele Ceriotti [@ceriottm](https://github.com/ceriottm/)\n\nThis notebook showcases the functionality of ``torch-pme`` by going\nstep-by-step through the process of projecting an atom density onto a\ngrid, and interpolating the grid values on (possibly different) points.\n"
      ]
    },
    {
      "cell_type": "code",
      "execution_count": null,
      "metadata": {
        "collapsed": false
      },
      "outputs": [],
      "source": [
        "import ase\nimport chemiscope\nimport numpy as np\nimport torch\nfrom matplotlib import pyplot as plt\n\nimport torchpme\n\ndevice = \"cpu\"\ndtype = torch.float64\nrng = torch.Generator()\nrng.manual_seed(32)"
      ]
    },
    {
      "cell_type": "markdown",
      "metadata": {},
      "source": [
        "## Compute the atom density projection on a mesh\n\nCreate a rocksalt structure with a regular array of atoms, that we\nwill use as example\n\n"
      ]
    },
    {
      "cell_type": "code",
      "execution_count": null,
      "metadata": {
        "collapsed": false
      },
      "outputs": [],
      "source": [
        "structure = ase.Atoms(\n    positions=[\n        [0, 0, 0],\n        [3, 0, 0],\n        [0, 3, 0],\n        [3, 3, 0],\n        [0, 0, 3],\n        [3, 0, 3],\n        [0, 3, 3],\n        [3, 3, 3],\n    ],\n    cell=[6, 6, 6],\n    symbols=\"NaClClNaClNaNaCl\",\n)"
      ]
    },
    {
      "cell_type": "markdown",
      "metadata": {},
      "source": [
        "We now slightly displace the atoms from their initial positions randomly based on a\nGaussian distribution.\n\n"
      ]
    },
    {
      "cell_type": "code",
      "execution_count": null,
      "metadata": {
        "collapsed": false
      },
      "outputs": [],
      "source": [
        "displacement = torch.normal(\n    mean=0.0, std=2.5e-1, size=(len(structure), 3), generator=rng\n)\nstructure.positions += displacement.numpy()\n\nchemiscope.show(\n    frames=[structure],\n    mode=\"structure\",\n    settings=chemiscope.quick_settings(structure_settings={\"unitCell\": True}),\n)"
      ]
    },
    {
      "cell_type": "markdown",
      "metadata": {},
      "source": [
        "We also define the charges, with a bit of noise for good measure. (NB: the structure\nwon't be charge neutral but it does not matter for this example).\nAlso load positions and cells into torch tensors\n\n"
      ]
    },
    {
      "cell_type": "code",
      "execution_count": null,
      "metadata": {
        "collapsed": false
      },
      "outputs": [],
      "source": [
        "charges = torch.tensor(\n    [[1.0], [-1.0], [-1.0], [1.0], [-1.0], [1.0], [1.0], [-1.0]],\n    dtype=dtype,\n    device=device,\n)\ncharges += torch.normal(mean=0.0, std=1e-1, size=(len(charges), 1), generator=rng)\npositions = torch.from_numpy(structure.positions).to(device=device, dtype=dtype)\ncell = torch.from_numpy(structure.cell.array).to(device=device, dtype=dtype)"
      ]
    },
    {
      "cell_type": "markdown",
      "metadata": {},
      "source": [
        "We now use :class:`MeshInterpolator <lib.MeshInterpolator>` to project\natomic positions on a grid. Note that ideally the interpolation represents a sharp\ndensity peaked at atomic positions, so the degree of smoothening depends on the grid\nresolution (as well as on the interpolation nodes)\n\nWe demonstrate this by computing a projection on two grids with 3 and 7 mesh points.\n\n"
      ]
    },
    {
      "cell_type": "code",
      "execution_count": null,
      "metadata": {
        "collapsed": false
      },
      "outputs": [],
      "source": [
        "interpolator = torchpme.lib.MeshInterpolator(\n    cell=cell, ns_mesh=torch.tensor([3, 3, 3]), interpolation_nodes=3, method=\"P3M\"\n)\ninterpolator_fine = torchpme.lib.MeshInterpolator(\n    cell=cell, ns_mesh=torch.tensor([7, 7, 7]), interpolation_nodes=3, method=\"P3M\"\n)\ninterpolator.compute_weights(positions)\ninterpolator_fine.compute_weights(positions)\n\nrho_mesh = interpolator.points_to_mesh(charges)\nrho_mesh_fine = interpolator_fine.points_to_mesh(charges)"
      ]
    },
    {
      "cell_type": "markdown",
      "metadata": {},
      "source": [
        "Note that the meshing can be also used for multiple \"pseudo-charge\" values per atom\nsimultaneously. In that case, :func:`points_to_mesh\n<torchpme.lib.MeshInterpolator.points_to_mesh>` will return multiple mesh values.\n\n"
      ]
    },
    {
      "cell_type": "code",
      "execution_count": null,
      "metadata": {
        "collapsed": false
      },
      "outputs": [],
      "source": [
        "pseudo_charges = torch.normal(mean=0, std=1, size=(len(structure), 4))\npseudo_mesh = interpolator.points_to_mesh(pseudo_charges)\n\nprint(tuple(pseudo_mesh.shape))"
      ]
    },
    {
      "cell_type": "markdown",
      "metadata": {},
      "source": [
        "## Visualizing the mesh\n\nOne can extract the mesh to visualize the values of the atom density. The grid is\nperiodic, so we need some manipulations just for the purpose of visualization.\nIt is clear that the finer mesh leads to sharper densities, centered around the\natom positions.\n\n"
      ]
    },
    {
      "cell_type": "code",
      "execution_count": null,
      "metadata": {
        "collapsed": false
      },
      "outputs": [],
      "source": [
        "fig, ax = plt.subplots(\n    1, 2, figsize=(8, 4), sharey=True, sharex=True, constrained_layout=True\n)\nmesh_extent = [\n    0,\n    interpolator.cell[0, 0],\n    0,\n    interpolator.cell[1, 1],\n]\n\nz_plot = rho_mesh[0, :, :, 0].detach().numpy()\nz_plot = np.vstack([z_plot, z_plot[0, :]])  # Add first row at the bottom\nz_plot = np.hstack(\n    [z_plot, z_plot[:, 0].reshape(-1, 1)]\n)  # Add first column at the right\n\nz_min, z_max = (z_plot.min(), z_plot.max())\n\ncf = ax[0].imshow(\n    z_plot,\n    extent=mesh_extent,\n    vmin=z_min,\n    vmax=z_max,\n    origin=\"lower\",\n    interpolation=\"bilinear\",\n)\n\nz_plot = rho_mesh_fine[0, :, :, 0].detach().numpy()\nz_plot = np.vstack([z_plot, z_plot[0, :]])  # Add first row at the bottom\nz_plot = np.hstack(\n    [z_plot, z_plot[:, 0].reshape(-1, 1)]\n)  # Add first column at the right\n\ncf_fine = ax[1].imshow(\n    z_plot,\n    extent=mesh_extent,\n    vmin=z_min,\n    vmax=z_max,\n    origin=\"lower\",\n    interpolation=\"bilinear\",\n)\nax[0].set_xlabel(\"x / \u00c5\")\nax[1].set_xlabel(\"x / \u00c5\")\nax[0].set_ylabel(\"y / \u00c5\")\nax[0].set_title(r\"$n_{\\mathrm{grid}}=3$\")\nax[1].set_title(r\"$n_{\\mathrm{grid}}=7$\")\nfig.colorbar(cf_fine, label=r\"density / e/\u00c5$^3$\")\nfig.show()"
      ]
    },
    {
      "cell_type": "markdown",
      "metadata": {},
      "source": [
        "### Mesh visualization in chemiscope\n\nWe can also plot the points explicitly together with the structure, adding some\ndummy atoms with a \"charge\" property\n\n"
      ]
    },
    {
      "cell_type": "code",
      "execution_count": null,
      "metadata": {
        "collapsed": false
      },
      "outputs": [],
      "source": [
        "xyz_mesh = interpolator.get_mesh_xyz().detach().numpy()\ndummy = ase.Atoms(\n    positions=xyz_mesh.reshape(-1, 3), symbols=\"H\" * len(xyz_mesh.reshape(-1, 3))\n)\nchemiscope.show(\n    frames=[structure + dummy],\n    properties={\n        \"charge\": {\n            \"target\": \"atom\",\n            \"values\": np.concatenate([charges.flatten(), rho_mesh[0].flatten()]),\n        }\n    },\n    mode=\"structure\",\n    settings=chemiscope.quick_settings(\n        structure_settings={\n            \"unitCell\": True,\n            \"bonds\": False,\n            \"environments\": {\"activated\": False},\n            \"color\": {\n                \"property\": \"charge\",\n                \"min\": -0.3,\n                \"max\": 0.3,\n                \"transform\": \"linear\",\n                \"palette\": \"seismic\",\n            },\n        }\n    ),\n    environments=chemiscope.all_atomic_environments([structure + dummy]),\n)"
      ]
    },
    {
      "cell_type": "markdown",
      "metadata": {},
      "source": [
        "and for the fine mesh (that again shows clearly how the charge is distributed\nover the neighboring points, and how the mesh size determines the smearing).\n\n"
      ]
    },
    {
      "cell_type": "code",
      "execution_count": null,
      "metadata": {
        "collapsed": false
      },
      "outputs": [],
      "source": [
        "xyz_mesh = interpolator_fine.get_mesh_xyz().detach().numpy()\ndummy = ase.Atoms(\n    positions=xyz_mesh.reshape(-1, 3), symbols=\"H\" * len(xyz_mesh.reshape(-1, 3))\n)\nchemiscope.show(\n    frames=[structure + dummy],\n    properties={\n        \"charge\": {\n            \"target\": \"atom\",\n            \"values\": np.concatenate([charges.flatten(), rho_mesh_fine[0].flatten()]),\n        }\n    },\n    mode=\"structure\",\n    settings=chemiscope.quick_settings(\n        structure_settings={\n            \"unitCell\": True,\n            \"bonds\": False,\n            \"environments\": {\"activated\": False},\n            \"color\": {\n                \"property\": \"charge\",\n                \"min\": -0.3,\n                \"max\": 0.3,\n                \"transform\": \"linear\",\n                \"palette\": \"seismic\",\n            },\n        }\n    ),\n    environments=chemiscope.all_atomic_environments([structure + dummy]),\n)"
      ]
    },
    {
      "cell_type": "markdown",
      "metadata": {},
      "source": [
        "## Mesh interpolation\n\nOnce a mesh has been defined, it is possible to use the :class:`MeshInterpolator\n<lib.MeshInterpolator>` object to compute an interpolation of the field on\nthe points for which the weights have been computed.\n\nA very important point to grasp is that the charge mapping on the grid is designed to\nconserve the total charge, and so interpolating it back does not (and is not meant\nto!) yield the initial value of the atomic \"pseudo-charges\".\n\nThis is also very clear from the mesh plots above, in which the charge assigned to the\ngrid points is much smaller than the atomic charges (that are around \u00b11).\n\n"
      ]
    },
    {
      "cell_type": "code",
      "execution_count": null,
      "metadata": {
        "collapsed": false
      },
      "outputs": [],
      "source": [
        "mesh_charges = interpolator_fine.mesh_to_points(rho_mesh_fine)\nfig, ax = plt.subplots(1, 1, figsize=(6, 4), constrained_layout=True)\n\nax.scatter(charges.flatten(), mesh_charges.flatten())\nax.set_xlabel(\"pseudo-charges\")\nax.set_ylabel(\"interpolated values\")\nfig.show()"
      ]
    },
    {
      "cell_type": "markdown",
      "metadata": {},
      "source": [
        "Even though it is not specifically designed for that, :func:`points_to_mesh\n<lib.MeshInterpolator.mesh_to_points>` can interpolate arbitrary functions\ndefined on the grid. For instance, here we define a product of sine functions along\nthe three Cartesian directions, $\\cos(2\\pi x/L)\\cos(2\\pi y/L)\\cos(2\\pi z/L)$\n\n"
      ]
    },
    {
      "cell_type": "code",
      "execution_count": null,
      "metadata": {
        "collapsed": false
      },
      "outputs": [],
      "source": [
        "xyz_mesh = interpolator_fine.get_mesh_xyz()\nmesh_2pil = xyz_mesh * np.pi * 2 / interpolator_fine.cell[0, 0]\nf_mesh = (\n    torch.cos(mesh_2pil[..., 0])\n    * torch.cos(mesh_2pil[..., 1])\n    * torch.cos(mesh_2pil[..., 2])\n).reshape(1, *mesh_2pil.shape[:-1])\n\nf_points = interpolator_fine.mesh_to_points(f_mesh)\n\ndummy = ase.Atoms(\n    positions=xyz_mesh.reshape(-1, 3), symbols=\"H\" * len(xyz_mesh.reshape(-1, 3))\n)\nchemiscope.show(\n    frames=[structure + dummy],\n    properties={\n        \"f\": {\n            \"target\": \"atom\",\n            \"values\": np.concatenate([f_points.flatten(), f_mesh.flatten()]),\n        }\n    },\n    mode=\"structure\",\n    settings=chemiscope.quick_settings(\n        structure_settings={\n            \"unitCell\": True,\n            \"bonds\": False,\n            \"environments\": {\"activated\": False},\n            \"color\": {\n                \"property\": \"f\",\n                \"min\": -1,\n                \"max\": 1,\n                \"transform\": \"linear\",\n                \"palette\": \"seismic\",\n            },\n        }\n    ),\n    environments=chemiscope.all_atomic_environments([structure + dummy]),\n)"
      ]
    },
    {
      "cell_type": "markdown",
      "metadata": {},
      "source": [
        "### Interpolating on different points\n\nIf you want to interpolate on a different set of points than the ones a\n:class:`MeshInterpolator <lib.MeshInterpolator>` object was initialized\non, it is easy to do by either creating a new one or simply calling again\n:func:`compute_weights\n<torchpme.lib.MeshInterpolator.compute_weights>` for the new set of\npoints.\n\n"
      ]
    },
    {
      "cell_type": "code",
      "execution_count": null,
      "metadata": {
        "collapsed": false
      },
      "outputs": [],
      "source": [
        "new_points = torch.normal(mean=3, std=1, size=(10, 3), dtype=dtype, device=device)\ninterpolator_fine.compute_weights(new_points)\nnew_f = interpolator_fine.mesh_to_points(f_mesh)\nnew_ref = (\n    torch.cos(new_points[..., 0])\n    * torch.cos(new_points[..., 1])\n    * torch.cos(new_points[..., 2])\n).reshape(1, *new_points.shape[:-1])"
      ]
    },
    {
      "cell_type": "markdown",
      "metadata": {},
      "source": [
        "Even though the interpolated values are not accurate (this is a pretty\ncoarse grid for this function resolution) it is clear that the class can\ninterpolate on arbitrary positions of the target points.\n\n"
      ]
    },
    {
      "cell_type": "code",
      "execution_count": null,
      "metadata": {
        "collapsed": false
      },
      "outputs": [],
      "source": [
        "fig, ax = plt.subplots(1, 1, figsize=(6, 4), constrained_layout=True)\n\nax.scatter(new_ref.flatten(), new_f.flatten())\nax.plot([-0.7, 0.7], [-0.7, 0.7], \"k--\")\nax.set_xlabel(r\"$f$ value\")\nax.set_ylabel(r\"$f$ interpolated\")\nfig.show()"
      ]
    }
  ],
  "metadata": {
    "kernelspec": {
      "display_name": "Python 3",
      "language": "python",
      "name": "python3"
    },
    "language_info": {
      "codemirror_mode": {
        "name": "ipython",
        "version": 3
      },
      "file_extension": ".py",
      "mimetype": "text/x-python",
      "name": "python",
      "nbconvert_exporter": "python",
      "pygments_lexer": "ipython3",
      "version": "3.13.2"
    }
  },
  "nbformat": 4,
  "nbformat_minor": 0
}